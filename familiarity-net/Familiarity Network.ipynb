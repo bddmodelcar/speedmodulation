{
 "cells": [
  {
   "cell_type": "markdown",
   "metadata": {},
   "source": [
    "# Familiarity Network\n",
    "\n",
    "The idea is to create a network training structure for training a network to evaluate the familiarity of the input it sees to what the network has seen before. This is useful since we can use this network as a metric to check for correlations between familiarity of data, and other factors in a validation dataset. The main idea is for the network to develop filters for scenes that it has been shown. Examples:\n",
    "\n",
    "1. White filter for snowy scenes\n",
    "2. Green filter for forest scenes\n",
    "3. Sidewalk filters for direct scenes\n",
    "4. Racetrack filters for racing scenes\n",
    "5. Cone filters for arena scenes\n",
    "...\n",
    "\n",
    "## Metric for Familiarity\n",
    "A metric for familiarity needs to be defined in order to find out how familiar the data is to a network. This metric will need to take into account:\n",
    "\n",
    "3. Average time of day (light vs. dark) of trained data compared to time of data point.\n",
    "4. Loss of network trained on the same trained data compared o average loss.\n",
    "1. \\# of data moments shown within the same segment vs. outside the same segment\n",
    "2. Behavioral mode similarity between trained data\n",
    "5. Comparison of data moment environment compared to average data moment environment (snowy, forrest, arena, etc.)\n",
    "\n",
    "This metric will serve as the ground truth value for the network I will be training to compute familiarity.\n",
    "\n",
    "### Actual Equation\n",
    "A draft of an equation that could be used to measure strangeness (inverse of familiarity).\n",
    "\n",
    "\\begin{equation}\n",
    "t = time\\ in\\ hours(military\\ time)\\ of\\ data\\ moment\\\\\n",
    "\\end{equation}\n",
    "\\begin{equation}\n",
    "n_{mis} = \\#\\ of\\ trained\\ moments\\ in\\ same\\ segment\\\\\n",
    "\\end{equation}\n",
    "\\begin{equation}\n",
    "n_{mos} = \\#\\ of\\ trained\\ moments\\ not\\ in\\ same\\ segment\\\\\n",
    "\\end{equation}\n",
    "\\begin{equation}\n",
    "\\vec{v}_{mode} = Behavioral\\ mode\\ vector\\\\\n",
    "\\end{equation}\n",
    "\\begin{equation}\n",
    "\\vec{v}_{env} = Environmental\\ vector\\\\\n",
    "\\end{equation}\n",
    "\n",
    "\\begin{equation}\n",
    "s = \n",
    "w_1 \\cdot \\dfrac{abs(t - {t_{avg}})}{t_{avg}} +\n",
    "w_2 \\cdot \\dfrac{loss_{avg} - loss}{loss_{avg}} +\n",
    "w_3 \\cdot \\dfrac{n_{mis}}{n_{mos} + n_{mis}} +\n",
    "w_4 \\cdot avg(abs(\\vec{v}_{mode} - \\vec{v}_{avg\\ mode})) +\n",
    "w_5 \\cdot avg(abs(\\vec{v}_{env} - \\vec{v}_{avg\\ env}))\n",
    "\\end{equation}\n"
   ]
  }
 ],
 "metadata": {
  "kernelspec": {
   "display_name": "Python 2",
   "language": "python",
   "name": "python2"
  },
  "language_info": {
   "codemirror_mode": {
    "name": "ipython",
    "version": 2
   },
   "file_extension": ".py",
   "mimetype": "text/x-python",
   "name": "python",
   "nbconvert_exporter": "python",
   "pygments_lexer": "ipython2",
   "version": "2.7.12"
  }
 },
 "nbformat": 4,
 "nbformat_minor": 2
}
