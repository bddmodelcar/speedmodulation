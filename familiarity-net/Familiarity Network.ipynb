{
 "cells": [
  {
   "cell_type": "code",
   "execution_count": 1,
   "metadata": {},
   "outputs": [
    {
     "data": {
      "text/html": [
       "<script>\n",
       "code_show=true; \n",
       "function code_toggle() {\n",
       " if (code_show){\n",
       " $('div.input').hide();\n",
       " } else {\n",
       " $('div.input').show();\n",
       " }\n",
       " code_show = !code_show\n",
       "} \n",
       "$( document ).ready(code_toggle);\n",
       "</script>\n",
       "<form action=\"javascript:code_toggle()\"><input type=\"submit\" value=\"Click here to toggle on/off the raw code.\"></form>"
      ],
      "text/plain": [
       "<IPython.core.display.HTML object>"
      ]
     },
     "execution_count": 1,
     "metadata": {},
     "output_type": "execute_result"
    }
   ],
   "source": [
    "from IPython.display import HTML\n",
    "\n",
    "HTML('''<script>\n",
    "code_show=true; \n",
    "function code_toggle() {\n",
    " if (code_show){\n",
    " $('div.input').hide();\n",
    " } else {\n",
    " $('div.input').show();\n",
    " }\n",
    " code_show = !code_show\n",
    "} \n",
    "$( document ).ready(code_toggle);\n",
    "</script>\n",
    "<form action=\"javascript:code_toggle()\"><input type=\"submit\" value=\"Click here to toggle on/off the raw code.\"></form>''')"
   ]
  },
  {
   "cell_type": "markdown",
   "metadata": {},
   "source": [
    "# Familiarity Network\n",
    "\n",
    "The idea is to create a network training structure for training a network to evaluate the familiarity of the input it sees to what the network has seen before. This is use The main idea is for the network to develop filters for scenes that it has been shown. Examples:\n",
    "\n",
    "1. White filter for snowy scenes\n",
    "2. Green filter for forest scenes\n",
    "3. Sidewalk filters for direct scenes\n",
    "4. Racetrack filters for racing scenes\n",
    "5. Cone filters for arena scenes\n",
    "...\n",
    "\n",
    "### Metric for Familiarity\n",
    "A metric for familiarity needs to be defined in order to find out how familiar the data is to a network. This metric will need to take into account:\n",
    "\n",
    "1. \\# of data moments shown within the same segment vs. outside the same segment\n",
    "2. Behavioral mode similarity between trained data\n",
    "3. Average time of day (light vs. dark) of trained data compared to time of data point.\n",
    "4. Loss of network trained on the same trained data\n",
    "5. Comparison of data moment environment compared to average data moment environment ()\n",
    "\n",
    "This metric will serve as the ground truth value for the network I will be training to compute familiarity."
   ]
  }
 ],
 "metadata": {
  "kernelspec": {
   "display_name": "Python 2",
   "language": "python",
   "name": "python2"
  },
  "language_info": {
   "codemirror_mode": {
    "name": "ipython",
    "version": 2
   },
   "file_extension": ".py",
   "mimetype": "text/x-python",
   "name": "python",
   "nbconvert_exporter": "python",
   "pygments_lexer": "ipython2",
   "version": "2.7.12"
  }
 },
 "nbformat": 4,
 "nbformat_minor": 2
}
