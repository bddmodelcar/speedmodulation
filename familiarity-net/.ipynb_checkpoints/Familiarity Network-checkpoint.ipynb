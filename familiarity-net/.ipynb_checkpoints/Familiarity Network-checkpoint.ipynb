{
 "metadata": {
  "kernelspec": {
   "display_name": "Python 2",
   "language": "python",
   "name": "python2"
  },
  "language_info": {
   "codemirror_mode": {
    "name": "ipython",
    "version": 2
   },
   "file_extension": ".py",
   "mimetype": "text/x-python",
   "name": "python",
   "nbconvert_exporter": "python",
   "pygments_lexer": "ipython2",
   "version": "2.7.12"
  },
  "name": "",
  "signature": "sha256:c12d11ade2675bdfd4518738b20715acfc802a2f5e7c8c715cca50352149c40a"
 },
 "nbformat": 3,
 "nbformat_minor": 0,
 "worksheets": [
  {
   "cells": [
    {
     "cell_type": "markdown",
     "metadata": {},
     "source": [
      "# Familiarity Network\n",
      "\n",
      "The idea is to create a network training structure for training a network to evaluate the familiarity of the input it sees to what the network has seen before. This is useful since we can use this network as a metric to check for correlations between familiarity of data, and other factors in a validation dataset. The main idea is for the network to develop filters for scenes that it has been shown. Examples:\n",
      "\n",
      "1. White filter for snowy scenes\n",
      "2. Green filter for forest scenes\n",
      "3. Sidewalk filters for direct scenes\n",
      "4. Racetrack filters for racing scenes\n",
      "5. Cone filters for arena scenes\n",
      "...\n",
      "\n",
      "## Metric for Familiarity\n",
      "A metric for familiarity needs to be defined in order to find out how familiar the data is to a network. This metric will need to take into account:\n",
      "\n",
      "3. Average time of day (light vs. dark) of trained data compared to time of data point.\n",
      "4. Loss of network trained on the same trained data compared o average loss.\n",
      "1. \\# of data moments shown within the same segment vs. outside the same segment\n",
      "2. Behavioral mode similarity between trained data\n",
      "5. Comparison of data moment environment compared to average data moment environment (snowy, forrest, arena, etc.)\n",
      "\n",
      "This metric will serve as the ground truth value for the network I will be training to compute familiarity.\n",
      "\n",
      "### Actual Equation\n",
      "A draft of an equation that could be used to measure strangeness (inverse of familiarity).\n",
      "\n",
      "\\begin{equation}\n",
      "t = time\\ in\\ hours(military\\ time)\\ of\\ data\\ moment\\\\\n",
      "\\end{equation}\n",
      "\\begin{equation}\n",
      "n_{mis} = \\#\\ of\\ trained\\ moments\\ in\\ same\\ segment\\\\\n",
      "\\end{equation}\n",
      "\\begin{equation}\n",
      "n_{mos} = \\#\\ of\\ trained\\ moments\\ not\\ in\\ same\\ segment\\\\\n",
      "\\end{equation}\n",
      "\\begin{equation}\n",
      "\\vec{v}_{mode} = Behavioral\\ mode\\ vector\\\\\n",
      "\\end{equation}\n",
      "\\begin{equation}\n",
      "\\vec{v}_{env} = Environmental\\ vector\\\\\n",
      "\\end{equation}\n",
      "\n",
      "\\begin{equation}\n",
      "s = \n",
      "w_1 \\cdot \\dfrac{abs(t - {t_{avg}})}{t_{avg}} +\n",
      "w_2 \\cdot \\dfrac{loss_{avg} - loss}{loss_{avg}} +\n",
      "w_3 \\cdot \\dfrac{n_{mis}}{n_{mos} + n_{mis}} +\n",
      "w_4 \\cdot avg(abs(\\vec{v}_{mode} - \\vec{v}_{avg\\ mode})) +\n",
      "w_5 \\cdot avg(abs(\\vec{v}_{env} - \\vec{v}_{avg\\ env}))\n",
      "\\end{equation}\n"
     ]
    },
    {
     "cell_type": "markdown",
     "metadata": {},
     "source": [
      "# Available Data Analysis\n",
      "Lets try to figure out what data is available to us, so that we can figure out which of the above metrics we can actually use without hiring some kind of data labeler or spending a long time at the computer :)"
     ]
    },
    {
     "cell_type": "code",
     "collapsed": false,
     "input": [
      "import training.libs.Segment_Data as Segment_Data\n",
      "\n",
      "# Load hdf5 segment data                                                        \n",
      "hdf5_runs_path = hdf5_segment_metadata_path = '/home/karlzipser/Desktop/bair_car_data_Main_Dataset'          \n",
      "hdf5_runs_path += '/hdf5/runs'                                             \n",
      "hdf5_segment_metadata_path += '/hdf5/segment_metadata'                                                                                                             \n",
      "Segment_Data.load_Segment_Data(hdf5_segment_metadata_path, hdf5_runs_path)                             \n",
      "                                                                  "
     ],
     "language": "python",
     "metadata": {},
     "outputs": [
      {
       "output_type": "stream",
       "stream": "stdout",
       "text": [
        "doing run_into_Segment_Data...\n",
        "\r",
        " [                       0%                       ]"
       ]
      },
      {
       "output_type": "stream",
       "stream": "stdout",
       "text": [
        "\u001b[K caffe2_z2_color_direct_Smyth_tape_18Feb17_14h04m26s_Mr_Orange\r",
        "\r",
        " [                       0%                       ]  2 of 411 complete"
       ]
      },
      {
       "output_type": "stream",
       "stream": "stdout",
       "text": [
        "\u001b[K caffe2_z2_color_direct_Smyth_tape_18Feb17_14h21m06s_Mr_Orange\r",
        "\r"
       ]
      },
      {
       "output_type": "stream",
       "stream": "stdout",
       "text": [
        " [                       1%                       ]  3 of 411 complete"
       ]
      },
      {
       "output_type": "stream",
       "stream": "stdout",
       "text": [
        "\u001b[K caffe2_z2_color_direct_Smyth_tape_18Feb17_14h55m58s_Mr_Orange\r",
        "\r",
        " [                       1%                       ]  4 of 411 complete"
       ]
      },
      {
       "output_type": "stream",
       "stream": "stdout",
       "text": [
        "\u001b[K caffe2_z2_color_direct_Smyth_tape_18Feb17_15h10m06s_Mr_Orange\r",
        "\r",
        " [                       1%                       ]  5 of 411 complete"
       ]
      },
      {
       "output_type": "stream",
       "stream": "stdout",
       "text": [
        "\u001b[K caffe2_z2_color_direct_Smyth_tape_18Feb17_15h22m13s_Mr_Orange\r",
        "\r",
        " [                       1%                       ]  6 of 411 complete"
       ]
      },
      {
       "output_type": "stream",
       "stream": "stdout",
       "text": [
        "\u001b[K caffe2_z2_color_direct_Smyth_tape_18Feb17_15h36m55s_Mr_Orange\r",
        "\r",
        " [*                      2%                       ]  7 of 411 complete"
       ]
      },
      {
       "output_type": "stream",
       "stream": "stdout",
       "text": [
        "\u001b[K caffe2_z2_color_direct_Smyth_tape_18Feb17_16h29m12s_Mr_Orange\r",
        "\r",
        " [*                      2%                       ]  8 of 411 complete"
       ]
      },
      {
       "output_type": "stream",
       "stream": "stdout",
       "text": [
        "\u001b[K caffe_direct_Smyth_tape_16Jan17_16h52m24s_Mr_Silver\r",
        "\r",
        " [*                      2%                       ]  9 of 411 complete"
       ]
      },
      {
       "output_type": "stream",
       "stream": "stdout",
       "text": [
        "\u001b[K caffe_direct_Smyth_tape_16Jan17_17h02m46s_Mr_Silver\r",
        "\r"
       ]
      },
      {
       "output_type": "stream",
       "stream": "stdout",
       "text": [
        " [*                      2%                       ]  10 of 411 complete"
       ]
      },
      {
       "output_type": "stream",
       "stream": "stdout",
       "text": [
        "\u001b[K caffe_direct_Smyth_tape_16Jan17_17h21m39s_Mr_Silver\r",
        "\r",
        " [*                      3%                       ]  11 of 411 complete"
       ]
      },
      {
       "output_type": "stream",
       "stream": "stdout",
       "text": [
        "\u001b[K caffe_direct_local_01Dec16_17h04m44s_Mr_Teal\r",
        "\r"
       ]
      },
      {
       "output_type": "stream",
       "stream": "stdout",
       "text": [
        " [*                      3%                       ]  12 of 411 complete"
       ]
      },
      {
       "output_type": "stream",
       "stream": "stdout",
       "text": [
        "\u001b[K caffe_direct_local_sidewalks_05Dec16_15h03m35s_Mr_Blue\r",
        "\r"
       ]
      },
      {
       "output_type": "stream",
       "stream": "stdout",
       "text": [
        " [*                      3%                       ]  13 of 411 complete"
       ]
      },
      {
       "output_type": "stream",
       "stream": "stdout",
       "text": [
        "\u001b[K caffe_z2_color_caffe2_direct_local_13Feb17_16h47m42s_Mr_Orange\r",
        "\r"
       ]
      },
      {
       "output_type": "stream",
       "stream": "stdout",
       "text": [
        " [*                      3%                       ]  14 of 411 complete"
       ]
      },
      {
       "output_type": "stream",
       "stream": "stdout",
       "text": [
        "\u001b[K caffe_z2_color_direct_Smyth_tape_15Feb17_14h05m45s_Mr_Orange\r",
        "\r",
        " [**                     4%                       ]  15 of 411 complete"
       ]
      },
      {
       "output_type": "stream",
       "stream": "stdout",
       "text": [
        "\u001b[K caffe_z2_color_direct_Smyth_tape_15Feb17_14h16m50s_Mr_Black\r",
        "\r",
        " [**                     4%                       ]  16 of 411 complete"
       ]
      },
      {
       "output_type": "stream",
       "stream": "stdout",
       "text": [
        "\u001b[K caffe_z2_color_direct_Smyth_tape_15Feb17_14h20m08s_Mr_Orange\r",
        "\r",
        " [**                     4%                       ]  17 of 411 complete"
       ]
      },
      {
       "output_type": "stream",
       "stream": "stdout",
       "text": [
        "\u001b[K caffe_z2_color_direct_Smyth_tape_15Feb17_14h41m22s_Mr_Orange\r",
        "\r"
       ]
      },
      {
       "output_type": "stream",
       "stream": "stdout",
       "text": [
        " [**                     4%                       ]  18 of 411 complete"
       ]
      },
      {
       "output_type": "stream",
       "stream": "stdout",
       "text": [
        "\u001b[K caffe_z2_color_direct_Smyth_tape_15Feb17_14h54m26s_Mr_Black\r",
        "\r"
       ]
      },
      {
       "output_type": "stream",
       "stream": "stdout",
       "text": [
        " [**                     5%                       ]  19 of 411 complete"
       ]
      },
      {
       "output_type": "stream",
       "stream": "stdout",
       "text": [
        "\u001b[K caffe_z2_color_direct_Smyth_tape_15Feb17_15h10m29s_Mr_Black\r",
        "\r"
       ]
      },
      {
       "output_type": "stream",
       "stream": "stdout",
       "text": [
        " [**                     5%                       ]  20 of 411 complete"
       ]
      },
      {
       "output_type": "stream",
       "stream": "stdout",
       "text": [
        "\u001b[K caffe_z2_color_direct_Smyth_tape_15Feb17_15h43m08s_Mr_Orange\r",
        "\r",
        " [**                     5%                       ]  21 of 411 complete"
       ]
      },
      {
       "output_type": "stream",
       "stream": "stdout",
       "text": [
        "\u001b[K caffe_z2_color_direct_Smyth_tape_15Feb17_16h27m33s_Mr_Black\r",
        "\r"
       ]
      },
      {
       "output_type": "stream",
       "stream": "stdout",
       "text": [
        " [**                     5%                       ]  22 of 411 complete"
       ]
      },
      {
       "output_type": "stream",
       "stream": "stdout",
       "text": [
        "\u001b[K caffe_z2_color_direct_Smyth_tape_15Feb17_16h29m06s_Mr_Orange\r",
        "\r"
       ]
      },
      {
       "output_type": "stream",
       "stream": "stdout",
       "text": [
        " [***                    6%                       ]  23 of 411 complete"
       ]
      },
      {
       "output_type": "stream",
       "stream": "stdout",
       "text": [
        "\u001b[K caffe_z2_color_direct_Smyth_tape_single_transmitter_11Feb17_13h40m21s_Mr_Orange\r",
        "\r",
        " [***                    6%                       ]  24 of 411 complete"
       ]
      },
      {
       "output_type": "stream",
       "stream": "stdout",
       "text": [
        "\u001b[K caffe_z2_color_direct_Smyth_tape_single_transmitter_11Feb17_13h40m25s_Mr_Black\r",
        "\r",
        " [***                    6%                       ]  25 of 411 complete"
       ]
      },
      {
       "output_type": "stream",
       "stream": "stdout",
       "text": [
        "\u001b[K caffe_z2_color_direct_Smyth_tape_single_transmitter_11Feb17_13h40m30s_Mr_Silver\r",
        "\r",
        " [***                    6%                       ]  26 of 411 complete"
       ]
      },
      {
       "output_type": "stream",
       "stream": "stdout",
       "text": [
        "\u001b[K caffe_z2_color_direct_Smyth_tape_single_transmitter_11Feb17_13h47m25s_Mr_Silver\r",
        "\r",
        " [***                    7%                       ]  27 of 411 complete"
       ]
      },
      {
       "output_type": "stream",
       "stream": "stdout",
       "text": [
        "\u001b[K caffe_z2_color_direct_Smyth_tape_single_transmitter_11Feb17_13h47m27s_Mr_Blue\r",
        "\r",
        " [***                    7%                       ]  28 of 411 complete"
       ]
      },
      {
       "output_type": "stream",
       "stream": "stdout",
       "text": [
        "\u001b[K caffe_z2_color_direct_Smyth_tape_single_transmitter_11Feb17_13h47m29s_Mr_Black\r",
        "\r",
        " [***                    7%                       ]  29 of 411 complete"
       ]
      },
      {
       "output_type": "stream",
       "stream": "stdout",
       "text": [
        "\u001b[K caffe_z2_color_direct_Smyth_tape_single_transmitter_11Feb17_13h47m51s_Mr_Orange\r",
        "\r",
        " [***                    7%                       ]  30 of 411 complete"
       ]
      },
      {
       "output_type": "stream",
       "stream": "stdout",
       "text": [
        "\u001b[K caffe_z2_color_direct_Smyth_tape_single_transmitter_11Feb17_13h54m22s_Mr_Orange\r",
        "\r",
        " [****                   8%                       ]  31 of 411 complete"
       ]
      },
      {
       "output_type": "stream",
       "stream": "stdout",
       "text": [
        "\u001b[K caffe_z2_color_direct_Smyth_tape_single_transmitter_11Feb17_13h54m26s_Mr_Silver\r",
        "\r",
        " [****                   8%                       ]  32 of 411 complete"
       ]
      },
      {
       "output_type": "stream",
       "stream": "stdout",
       "text": [
        "\u001b[K caffe_z2_color_direct_Smyth_tape_single_transmitter_11Feb17_13h54m33s_Mr_Teal\r",
        "\r",
        " [****                   8%                       ]  33 of 411 complete"
       ]
      },
      {
       "output_type": "stream",
       "stream": "stdout",
       "text": [
        "\u001b[K caffe_z2_color_direct_Smyth_tape_single_transmitter_11Feb17_13h54m34s_Mr_Black\r",
        "\r",
        " [****                   8%                       ]  34 of 411 complete"
       ]
      },
      {
       "output_type": "stream",
       "stream": "stdout",
       "text": [
        "\u001b[K caffe_z2_color_direct_Smyth_tape_single_transmitter_11Feb17_14h06m16s_Mr_Blue\r",
        "\r",
        " [****                   9%                       ]  35 of 411 complete"
       ]
      },
      {
       "output_type": "stream",
       "stream": "stdout",
       "text": [
        "\u001b[K caffe_z2_color_direct_Smyth_tape_single_transmitter_11Feb17_14h08m41s_Mr_Silver\r",
        "\r",
        " [****                   9%                       ]  36 of 411 complete"
       ]
      },
      {
       "output_type": "stream",
       "stream": "stdout",
       "text": [
        "\u001b[K caffe_z2_color_direct_Smyth_tape_single_transmitter_11Feb17_14h16m41s_Mr_Teal\r",
        "\r"
       ]
      },
      {
       "output_type": "stream",
       "stream": "stdout",
       "text": [
        " [****                   9%                       ]  37 of 411 complete"
       ]
      },
      {
       "output_type": "stream",
       "stream": "stdout",
       "text": [
        "\u001b[K caffe_z2_color_direct_Smyth_tape_single_transmitter_11Feb17_14h19m16s_Mr_Black\r",
        "\r",
        " [****                   9%                       ]  38 of 411 complete"
       ]
      },
      {
       "output_type": "stream",
       "stream": "stdout",
       "text": [
        "\u001b[K caffe_z2_color_direct_Smyth_tape_single_transmitter_11Feb17_15h07m11s_Mr_Blue\r",
        "\r",
        " [****                   9%                       ]  39 of 411 complete"
       ]
      },
      {
       "output_type": "stream",
       "stream": "stdout",
       "text": [
        "\u001b[K caffe_z2_color_direct_auto_start_13Feb17_17h51m36s_Mr_Black\r",
        "\r",
        " [*****                 10%                       ]  40 of 411 complete"
       ]
      },
      {
       "output_type": "stream",
       "stream": "stdout",
       "text": [
        "\u001b[K caffe_z2_direct_Smyth_17Dec16_12h56m18s_Mr_Orange\r",
        "\r"
       ]
      },
      {
       "output_type": "stream",
       "stream": "stdout",
       "text": [
        " [*****                 10%                       ]  41 of 411 complete"
       ]
      },
      {
       "output_type": "stream",
       "stream": "stdout",
       "text": [
        "\u001b[K caffe_z2_direct_Tilden_22Dec16_14h13m11s_Mr_Teal\r",
        "\r",
        " [*****                 10%                       ]  42 of 411 complete"
       ]
      },
      {
       "output_type": "stream",
       "stream": "stdout",
       "text": [
        "\u001b[K caffe_z2_direct_Tilden_22Dec16_14h29m03s_Mr_Teal\r",
        "\r"
       ]
      },
      {
       "output_type": "stream",
       "stream": "stdout",
       "text": [
        " [*****                 10%                       ]  43 of 411 complete"
       ]
      },
      {
       "output_type": "stream",
       "stream": "stdout",
       "text": [
        "\u001b[K caffe_z2_direct_Tilden_23Dec16_15h22m12s_Mr_Orange\r",
        "\r"
       ]
      },
      {
       "output_type": "stream",
       "stream": "stdout",
       "text": [
        " [*****                 11%                       ]  44 of 411 complete"
       ]
      },
      {
       "output_type": "stream",
       "stream": "stdout",
       "text": [
        "\u001b[K caffe_z2_direct_campus_10Oct16_17h46m23s_Mr_Orange\r",
        "\r"
       ]
      },
      {
       "output_type": "stream",
       "stream": "stdout",
       "text": [
        " [*****                 11%                       ]  45 of 411 complete"
       ]
      },
      {
       "output_type": "stream",
       "stream": "stdout",
       "text": [
        "\u001b[K caffe_z2_direct_campus_25Sep16_08h44m07s_Mr_Orange\r",
        "\r"
       ]
      },
      {
       "output_type": "stream",
       "stream": "stdout",
       "text": [
        " [*****                 11%                       ]  46 of 411 complete"
       ]
      },
      {
       "output_type": "stream",
       "stream": "stdout",
       "text": [
        "\u001b[K caffe_z2_direct_local_04Dec16_16h09m26s_Mr_Orange\r",
        "\r"
       ]
      },
      {
       "output_type": "stream",
       "stream": "stdout",
       "text": [
        " [*****                 11%                       ]  47 of 411 complete"
       ]
      },
      {
       "output_type": "stream",
       "stream": "stdout",
       "text": [
        "\u001b[K caffe_z2_direct_local_16Dec16_10h25m11s_Mr_White\r",
        "\r",
        " [******                12%                       ]  48 of 411 complete"
       ]
      },
      {
       "output_type": "stream",
       "stream": "stdout",
       "text": [
        "\u001b[K caffe_z2_direct_local_25Nov16_15h56m18s_Mr_Teal\r",
        "\r",
        " [******                12%                       ]  49 of 411 complete"
       ]
      },
      {
       "output_type": "stream",
       "stream": "stdout",
       "text": [
        "\u001b[K caffe_z2_direct_local_25Nov16_16h26m08s_Mr_Teal\r",
        "\r",
        " [******                12%                       ]  50 of 411 complete"
       ]
      },
      {
       "output_type": "stream",
       "stream": "stdout",
       "text": [
        "\u001b[K caffe_z2_direct_local_27Nov16_09h53m46s_Mr_Orange\r",
        "\r",
        " [******                12%                       ]  51 of 411 complete"
       ]
      },
      {
       "output_type": "stream",
       "stream": "stdout",
       "text": [
        "\u001b[K caffe_z2_direct_local_31Dec12_16h08m59s_Mr_Orange\r",
        "\r",
        " [******                13%                       ]  52 of 411 complete"
       ]
      },
      {
       "output_type": "stream",
       "stream": "stdout",
       "text": [
        "\u001b[K caffe_z2_direct_local_31Dec12_16h15m29s_Mr_Silver\r",
        "\r",
        " [******                13%                       ]  53 of 411 complete"
       ]
      },
      {
       "output_type": "stream",
       "stream": "stdout",
       "text": [
        "\u001b[K caffe_z2_direct_local_31Dec12_16h15m44s_Mr_Yellow\r",
        "\r",
        " [******                13%                       ]  54 of 411 complete"
       ]
      },
      {
       "output_type": "stream",
       "stream": "stdout",
       "text": [
        "\u001b[K caffe_z2_direct_local_sidewalks_02Oct16_15h53m07s_Mr_Orange\r",
        "\r",
        " [******                13%                       ]  55 of 411 complete"
       ]
      },
      {
       "output_type": "stream",
       "stream": "stdout",
       "text": [
        "\u001b[K caffe_z2_direct_local_sidewalks_08Oct16_17h40m36s_Mr_Orange\r",
        "\r",
        " [*******               14%                       ]  56 of 411 complete"
       ]
      },
      {
       "output_type": "stream",
       "stream": "stdout",
       "text": [
        "\u001b[K caffe_z2_direct_local_sidewalks_09Oct16_08h30m15s_Mr_Orange\r",
        "\r"
       ]
      },
      {
       "output_type": "stream",
       "stream": "stdout",
       "text": [
        " [*******               14%                       ]  57 of 411 complete"
       ]
      },
      {
       "output_type": "stream",
       "stream": "stdout",
       "text": [
        "\u001b[K caffe_z2_direct_local_sidewalks_09Oct16_10h28m19s_Mr_Orange\r",
        "\r"
       ]
      },
      {
       "output_type": "stream",
       "stream": "stdout",
       "text": [
        " [*******               14%                       ]  58 of 411 complete"
       ]
      },
      {
       "output_type": "stream",
       "stream": "stdout",
       "text": [
        "\u001b[K caffe_z2_direct_local_sidewalks_09Oct16_17h32m24s_Mr_Orange\r",
        "\r"
       ]
      },
      {
       "output_type": "stream",
       "stream": "stdout",
       "text": [
        " [*******               14%                       ]  59 of 411 complete"
       ]
      },
      {
       "output_type": "stream",
       "stream": "stdout",
       "text": [
        "\u001b[K caffe_z2_direct_local_sidewalks_24Sep16_13h43m32s_Mr_Orange\r",
        "\r"
       ]
      },
      {
       "output_type": "stream",
       "stream": "stdout",
       "text": [
        " [*******               15%                       ]  60 of 411 complete"
       ]
      },
      {
       "output_type": "stream",
       "stream": "stdout",
       "text": [
        "\u001b[K caffe_z2_direct_local_sidewalks_24Sep16_18h18m40s_Mr_Blue\r",
        "\r",
        " [*******               15%                       ]  61 of 411 complete"
       ]
      },
      {
       "output_type": "stream",
       "stream": "stdout",
       "text": [
        "\u001b[K caffe_z2_direct_local_sidewalks_28Sep16_08h06m57s_Mr_Orange\r",
        "\r"
       ]
      },
      {
       "output_type": "stream",
       "stream": "stdout",
       "text": [
        " [*******               15%                       ]  62 of 411 complete"
       ]
      },
      {
       "output_type": "stream",
       "stream": "stdout",
       "text": [
        "\u001b[K caffe_z2_direct_local_with_Mr_Black_29Dec16_16h21m28s_Mr_Silver\r",
        "\r"
       ]
      },
      {
       "output_type": "stream",
       "stream": "stdout",
       "text": [
        " [*******               15%                       ]  63 of 411 complete"
       ]
      },
      {
       "output_type": "stream",
       "stream": "stdout",
       "text": [
        "\u001b[K caffe_z2_play_campus_10Oct16_17h58m02s_Mr_Orange\r",
        "\r",
        " [********              16%                       ]  64 of 411 complete"
       ]
      },
      {
       "output_type": "stream",
       "stream": "stdout",
       "text": [
        "\u001b[K caffe_z2_racing_Smyth_17Dec16_13h43m27s_Mr_Orange\r",
        "\r"
       ]
      },
      {
       "output_type": "stream",
       "stream": "stdout",
       "text": [
        " [********              16%                       ]  65 of 411 complete"
       ]
      },
      {
       "output_type": "stream",
       "stream": "stdout",
       "text": [
        "\u001b[K direct_1Sept2016_Mr_Orange_local_sidewalks\r",
        "\r"
       ]
      },
      {
       "output_type": "stream",
       "stream": "stdout",
       "text": [
        " [********              16%                       ]  66 of 411 complete"
       ]
      },
      {
       "output_type": "stream",
       "stream": "stdout",
       "text": [
        "\u001b[K direct_2Sept2016_Mr_Orange_to_Evans_and_back_1\r",
        "\r"
       ]
      },
      {
       "output_type": "stream",
       "stream": "stdout",
       "text": [
        " [********              16%                       ]  67 of 411 complete"
       ]
      },
      {
       "output_type": "stream",
       "stream": "stdout",
       "text": [
        "\u001b[K direct_2Sept2016_Mr_Orange_to_Evans_and_back_2\r",
        "\r",
        " [********              17%                       ]  68 of 411 complete"
       ]
      },
      {
       "output_type": "stream",
       "stream": "stdout",
       "text": [
        "\u001b[K direct_11August2016.1470934701.330023\r",
        "\r",
        " [********              17%                       ]  69 of 411 complete"
       ]
      },
      {
       "output_type": "stream",
       "stream": "stdout",
       "text": [
        "\u001b[K direct_11August2016.1470950678.765195\r",
        "\r",
        " [********              17%                       ]  70 of 411 complete"
       ]
      },
      {
       "output_type": "stream",
       "stream": "stdout",
       "text": [
        "\u001b[K direct_31Aug2016_Mr_Blue_sidewalks_1\r",
        "\r",
        " [********              17%                       ]  71 of 411 complete"
       ]
      },
      {
       "output_type": "stream",
       "stream": "stdout",
       "text": [
        "\u001b[K direct_31Aug2016_Mr_Blue_sidewalks_2\r",
        "\r",
        " [*********             18%                       ]  72 of 411 complete"
       ]
      },
      {
       "output_type": "stream",
       "stream": "stdout",
       "text": [
        "\u001b[K direct_Smyth_tape_14Jan17_14h28m13s_Mr_Silver\r",
        "\r",
        " [*********             18%                       ]  73 of 411 complete"
       ]
      },
      {
       "output_type": "stream",
       "stream": "stdout",
       "text": [
        "\u001b[K direct_Smyth_tape_14Jan17_15h07m09s_Mr_Silver\r",
        "\r",
        " [*********             18%                       ]  74 of 411 complete"
       ]
      },
      {
       "output_type": "stream",
       "stream": "stdout",
       "text": [
        "\u001b[K direct_Smyth_tape_14Jan17_15h50m17s_Mr_Silver\r",
        "\r"
       ]
      },
      {
       "output_type": "stream",
       "stream": "stdout",
       "text": [
        " [*********             18%                       ]  75 of 411 complete"
       ]
      },
      {
       "output_type": "stream",
       "stream": "stdout",
       "text": [
        "\u001b[K direct_Smyth_tape_14Jan17_16h40m22s_Mr_Silver\r",
        "\r"
       ]
      },
      {
       "output_type": "stream",
       "stream": "stdout",
       "text": [
        " [*********             18%                       ]  76 of 411 complete"
       ]
      },
      {
       "output_type": "stream",
       "stream": "stdout",
       "text": [
        "\u001b[K direct_Smyth_tape_15Jan17_15h08m50s_Mr_Silver\r",
        "\r"
       ]
      },
      {
       "output_type": "stream",
       "stream": "stdout",
       "text": [
        " [*********             19%                       ]  77 of 411 complete"
       ]
      },
      {
       "output_type": "stream",
       "stream": "stdout",
       "text": [
        "\u001b[K direct_Smyth_tape_15Jan17_16h08m35s_Mr_Silver\r",
        "\r"
       ]
      },
      {
       "output_type": "stream",
       "stream": "stdout",
       "text": [
        " [*********             19%                       ]  78 of 411 complete"
       ]
      },
      {
       "output_type": "stream",
       "stream": "stdout",
       "text": [
        "\u001b[K direct_Smyth_tape_17Jan17_15h38m58s_Mr_Silver\r",
        "\r"
       ]
      },
      {
       "output_type": "stream",
       "stream": "stdout",
       "text": [
        " [*********             19%                       ]  79 of 411 complete"
       ]
      },
      {
       "output_type": "stream",
       "stream": "stdout",
       "text": [
        "\u001b[K direct_Smyth_tape_25Jan17_11h42m20s_Mr_Silver\r",
        "\r",
        " [*********             19%                       ]  80 of 411 complete"
       ]
      },
      {
       "output_type": "stream",
       "stream": "stdout",
       "text": [
        "\u001b[K direct_Smyth_tape_25Jan17_18h26m41s_Mr_Yellow\r",
        "\r"
       ]
      },
      {
       "output_type": "stream",
       "stream": "stdout",
       "text": [
        " [**********            20%                       ]  81 of 411 complete"
       ]
      },
      {
       "output_type": "stream",
       "stream": "stdout",
       "text": [
        "\u001b[K direct_Smyth_tape_25Jan17_19h24m14s_Mr_Yellow\r",
        "\r",
        " [**********            20%                       ]  82 of 411 complete"
       ]
      },
      {
       "output_type": "stream",
       "stream": "stdout",
       "text": [
        "\u001b[K direct_Smyth_tape_26Jan17_16h27m58s_Mr_Silver\r",
        "\r",
        " [**********            20%                       ]  83 of 411 complete"
       ]
      },
      {
       "output_type": "stream",
       "stream": "stdout",
       "text": [
        "\u001b[K direct_Smyth_tape_26Jan17_16h45m47s_Mr_Silver\r",
        "\r"
       ]
      },
      {
       "output_type": "stream",
       "stream": "stdout",
       "text": [
        " [**********            20%                       ]  84 of 411 complete"
       ]
      },
      {
       "output_type": "stream",
       "stream": "stdout",
       "text": [
        "\u001b[K direct_Smyth_tape_27Jan17_11h41m55s_Mr_Silver\r",
        "\r",
        " [**********            21%                       ]  85 of 411 complete"
       ]
      },
      {
       "output_type": "stream",
       "stream": "stdout",
       "text": [
        "\u001b[K direct_Smyth_tape_27Jan17_12h04m31s_Mr_Silver\r",
        "\r"
       ]
      },
      {
       "output_type": "stream",
       "stream": "stdout",
       "text": [
        " [**********            21%                       ]  86 of 411 complete"
       ]
      },
      {
       "output_type": "stream",
       "stream": "stdout",
       "text": [
        "\u001b[K direct_Smyth_tape_31Jan17_12h47m47s_Mr_Silver\r",
        "\r"
       ]
      },
      {
       "output_type": "stream",
       "stream": "stdout",
       "text": [
        " [**********            21%                       ]  87 of 411 complete"
       ]
      },
      {
       "output_type": "stream",
       "stream": "stdout",
       "text": [
        "\u001b[K direct_Smyth_tape_31Jan17_13h01m44s_Mr_Orange\r",
        "\r"
       ]
      },
      {
       "output_type": "stream",
       "stream": "stdout",
       "text": [
        " [**********            21%                       ]  88 of 411 complete"
       ]
      },
      {
       "output_type": "stream",
       "stream": "stdout",
       "text": [
        "\u001b[K direct_Smyth_tape_31Jan17_14h00m03s_Mr_Orange\r",
        "\r"
       ]
      },
      {
       "output_type": "stream",
       "stream": "stdout",
       "text": [
        " [***********           22%                       ]  89 of 411 complete"
       ]
      },
      {
       "output_type": "stream",
       "stream": "stdout",
       "text": [
        "\u001b[K direct_Smyth_tape_31Jan17_14h12m04s_Mr_Silver\r",
        "\r",
        " [***********           22%                       ]  90 of 411 complete"
       ]
      },
      {
       "output_type": "stream",
       "stream": "stdout",
       "text": [
        "\u001b[K direct_Smyth_tape_31Jan17_14h47m02s_Mr_Silver\r",
        "\r",
        " [***********           22%                       ]  91 of 411 complete"
       ]
      },
      {
       "output_type": "stream",
       "stream": "stdout",
       "text": [
        "\u001b[K direct_Smyth_tape_31Jan17_15h19m31s_Mr_Orange\r",
        "\r"
       ]
      },
      {
       "output_type": "stream",
       "stream": "stdout",
       "text": [
        " [***********           22%                       ]  92 of 411 complete"
       ]
      },
      {
       "output_type": "stream",
       "stream": "stdout",
       "text": [
        "\u001b[K direct_Smyth_tape_31Jan17_15h20m51s_Mr_Silver\r",
        "\r",
        " [***********           23%                       ]  93 of 411 complete"
       ]
      },
      {
       "output_type": "stream",
       "stream": "stdout",
       "text": [
        "\u001b[K direct_Smyth_tape_31Jan17_15h36m17s_Mr_Silver\r",
        "\r",
        " [***********           23%                       ]  94 of 411 complete"
       ]
      },
      {
       "output_type": "stream",
       "stream": "stdout",
       "text": [
        "\u001b[K direct_Smyth_tape_31Jan17_16h01m10s_Mr_Orange\r",
        "\r"
       ]
      },
      {
       "output_type": "stream",
       "stream": "stdout",
       "text": [
        " [***********           23%                       ]  95 of 411 complete"
       ]
      },
      {
       "output_type": "stream",
       "stream": "stdout",
       "text": [
        "\u001b[K direct_Smyth_tape_31Jan17_16h07m42s_Mr_Silver\r",
        "\r",
        " [***********           23%                       ]  96 of 411 complete"
       ]
      },
      {
       "output_type": "stream",
       "stream": "stdout",
       "text": [
        "\u001b[K direct_Smyth_tape_31Jan17_16h50m29s_Mr_Orange\r",
        "\r",
        " [************          24%                       ]  97 of 411 complete"
       ]
      },
      {
       "output_type": "stream",
       "stream": "stdout",
       "text": [
        "\u001b[K direct_Smyth_tape_31Jan17_16h50m45s_Mr_Silver\r",
        "\r",
        " [************          24%                       ]  98 of 411 complete"
       ]
      },
      {
       "output_type": "stream",
       "stream": "stdout",
       "text": [
        "\u001b[K direct_Tilden_22Dec16_15h40m29s_Mr_Orange\r",
        "\r"
       ]
      },
      {
       "output_type": "stream",
       "stream": "stdout",
       "text": [
        " [************          24%                       ]  99 of 411 complete"
       ]
      },
      {
       "output_type": "stream",
       "stream": "stdout",
       "text": [
        "\u001b[K direct_auto_start_31Dec12_16h00m37s_Mr_Silver\r",
        "\r"
       ]
      },
      {
       "output_type": "stream",
       "stream": "stdout",
       "text": [
        " [************          24%                       ]  100 of 411 complete"
       ]
      },
      {
       "output_type": "stream",
       "stream": "stdout",
       "text": [
        "\u001b[K direct_caffe2_local_01Feb17_16h18m25s_Mr_Silver\r",
        "\r"
       ]
      },
      {
       "output_type": "stream",
       "stream": "stdout",
       "text": [
        " [************          25%                       ]  101 of 411 complete"
       ]
      },
      {
       "output_type": "stream",
       "stream": "stdout",
       "text": [
        "\u001b[K direct_caffe_local_29Jan17_00h44m46s_Mr_Yellow\r",
        "\r"
       ]
      },
      {
       "output_type": "stream",
       "stream": "stdout",
       "text": [
        " [************          25%                       ]  102 of 411 complete"
       ]
      },
      {
       "output_type": "stream",
       "stream": "stdout",
       "text": [
        "\u001b[K direct_campus_25Sep16_09h34m37s_Mr_Orange\r",
        "\r",
        " [************          25%                       ]  103 of 411 complete"
       ]
      },
      {
       "output_type": "stream",
       "stream": "stdout",
       "text": [
        "\u001b[K direct_from_campus2_08Oct16_10h15m19s_Mr_Orange\r",
        "\r",
        " [************          25%                       ]  104 of 411 complete"
       ]
      },
      {
       "output_type": "stream",
       "stream": "stdout",
       "text": [
        "\u001b[K direct_from_campus_31Dec12_10h00m00s_Mr_Orange\r",
        "\r",
        " [************          26%                       ]  105 of 411 complete"
       ]
      },
      {
       "output_type": "stream",
       "stream": "stdout",
       "text": [
        "\u001b[K direct_home_01Dec16_20h51m08s_Mr_Orange\r",
        "\r",
        " [************          26%                       ]  106 of 411 complete"
       ]
      },
      {
       "output_type": "stream",
       "stream": "stdout",
       "text": [
        "\u001b[K direct_home_01Dec16_20h59m43s_Mr_Orange\r",
        "\r",
        " [************          26%                       ]  107 of 411 complete"
       ]
      },
      {
       "output_type": "stream",
       "stream": "stdout",
       "text": [
        "\u001b[K direct_home_06Dec16_08h10m47s_Mr_Blue\r",
        "\r",
        " [************          26%                       ]  108 of 411 complete"
       ]
      },
      {
       "output_type": "stream",
       "stream": "stdout",
       "text": [
        "\u001b[K direct_home_06Dec16_16h01m42s_Mr_Blue\r",
        "\r"
       ]
      },
      {
       "output_type": "stream",
       "stream": "stdout",
       "text": [
        " [*************         27%                       ]  109 of 411 complete"
       ]
      },
      {
       "output_type": "stream",
       "stream": "stdout",
       "text": [
        "\u001b[K direct_local_01Jan17_14h59m21s_Mr_Black\r",
        "\r"
       ]
      },
      {
       "output_type": "stream",
       "stream": "stdout",
       "text": [
        " [*************         27%                       ]  110 of 411 complete"
       ]
      },
      {
       "output_type": "stream",
       "stream": "stdout",
       "text": [
        "\u001b[K direct_local_02Jan17_09h53m59s_Mr_Black\r",
        "\r"
       ]
      },
      {
       "output_type": "stream",
       "stream": "stdout",
       "text": [
        " [*************         27%                       ]  111 of 411 complete"
       ]
      },
      {
       "output_type": "stream",
       "stream": "stdout",
       "text": [
        "\u001b[K direct_local_05Jan17_15h31m58s_Mr_Black\r",
        "\r",
        " [*************         27%                       ]  112 of 411 complete"
       ]
      },
      {
       "output_type": "stream",
       "stream": "stdout",
       "text": [
        "\u001b[K direct_local_09Dec16_13h26m33s_Mr_Orange\r",
        "\r"
       ]
      },
      {
       "output_type": "stream",
       "stream": "stdout",
       "text": [
        " [*************         27%                       ]  113 of 411 complete"
       ]
      },
      {
       "output_type": "stream",
       "stream": "stdout",
       "text": [
        "\u001b[K direct_local_10Dec16_14h55m54s_Mr_Orange\r",
        "\r"
       ]
      },
      {
       "output_type": "stream",
       "stream": "stdout",
       "text": [
        " [*************         28%                       ]  114 of 411 complete"
       ]
      },
      {
       "output_type": "stream",
       "stream": "stdout",
       "text": [
        "\u001b[K direct_local_11Dec16_16h11m03s_Mr_Orange\r",
        "\r"
       ]
      },
      {
       "output_type": "stream",
       "stream": "stdout",
       "text": [
        " [*************         28%                       ]  115 of 411 complete"
       ]
      },
      {
       "output_type": "stream",
       "stream": "stdout",
       "text": [
        "\u001b[K direct_local_13Dec16_16h12m24s_Mr_Orange\r",
        "\r",
        " [*************         28%                       ]  116 of 411 complete"
       ]
      },
      {
       "output_type": "stream",
       "stream": "stdout",
       "text": [
        "\u001b[K direct_local_14Dec16_12h18m11s_Mr_Orange\r",
        "\r",
        " [*************         28%                       ]  117 of 411 complete"
       ]
      },
      {
       "output_type": "stream",
       "stream": "stdout",
       "text": [
        "\u001b[K direct_local_14Dec16_12h54m17s_Mr_Orange\r",
        "\r",
        " [**************        29%                       ]  118 of 411 complete"
       ]
      },
      {
       "output_type": "stream",
       "stream": "stdout",
       "text": [
        "\u001b[K direct_local_14Dec16_14h24m41s_Mr_Orange\r",
        "\r",
        " [**************        29%                       ]  119 of 411 complete"
       ]
      },
      {
       "output_type": "stream",
       "stream": "stdout",
       "text": [
        "\u001b[K direct_local_14Dec16_14h47m08s_Mr_Orange\r",
        "\r",
        " [**************        29%                       ]  120 of 411 complete"
       ]
      },
      {
       "output_type": "stream",
       "stream": "stdout",
       "text": [
        "\u001b[K direct_local_16Dec16_16h51m32s_Mr_Orange\r",
        "\r"
       ]
      },
      {
       "output_type": "stream",
       "stream": "stdout",
       "text": [
        " [**************        29%                       ]  121 of 411 complete"
       ]
      },
      {
       "output_type": "stream",
       "stream": "stdout",
       "text": [
        "\u001b[K direct_local_17Dec16_16h29m16s_Mr_Blue\r",
        "\r"
       ]
      },
      {
       "output_type": "stream",
       "stream": "stdout",
       "text": [
        " [**************        30%                       ]  122 of 411 complete"
       ]
      },
      {
       "output_type": "stream",
       "stream": "stdout",
       "text": [
        "\u001b[K direct_local_19Dec16_16h00m00s_Mr_Orange\r",
        "\r"
       ]
      },
      {
       "output_type": "stream",
       "stream": "stdout",
       "text": [
        " [**************        30%                       ]  123 of 411 complete"
       ]
      },
      {
       "output_type": "stream",
       "stream": "stdout",
       "text": [
        "\u001b[K direct_local_19Dec16_17h03m58s_Mr_Orange\r",
        "\r",
        " [**************        30%                       ]  124 of 411 complete"
       ]
      },
      {
       "output_type": "stream",
       "stream": "stdout",
       "text": [
        "\u001b[K direct_local_20Nov16_16h23m41s_Mr_Yellow\r",
        "\r",
        " [**************        30%                       ]  125 of 411 complete"
       ]
      },
      {
       "output_type": "stream",
       "stream": "stdout",
       "text": [
        "\u001b[K direct_local_20Nov16_17h21m13s_Mr_Yellow\r",
        "\r",
        " [***************       31%                       ]  126 of 411 complete"
       ]
      },
      {
       "output_type": "stream",
       "stream": "stdout",
       "text": [
        "\u001b[K direct_local_21Nov16_17h39m00s_Mr_Yellow\r",
        "\r",
        " [***************       31%                       ]  127 of 411 complete"
       ]
      },
      {
       "output_type": "stream",
       "stream": "stdout",
       "text": [
        "\u001b[K direct_local_23Dec16_09h54m27s_Mr_Orange\r",
        "\r",
        " [***************       31%                       ]  128 of 411 complete"
       ]
      },
      {
       "output_type": "stream",
       "stream": "stdout",
       "text": [
        "\u001b[K direct_local_23Dec16_10h17m14s_Mr_Orange\r",
        "\r",
        " [***************       31%                       ]  129 of 411 complete"
       ]
      },
      {
       "output_type": "stream",
       "stream": "stdout",
       "text": [
        "\u001b[K direct_local_29Dec16_16h15m39s_Mr_Black_with_Mr_Silver\r",
        "\r",
        " [***************       32%                       ]  130 of 411 complete"
       ]
      },
      {
       "output_type": "stream",
       "stream": "stdout",
       "text": [
        "\u001b[K direct_local_30Jan17_12h47m24s_Mr_Silver\r",
        "\r"
       ]
      },
      {
       "output_type": "stream",
       "stream": "stdout",
       "text": [
        " [***************       32%                       ]  131 of 411 complete"
       ]
      },
      {
       "output_type": "stream",
       "stream": "stdout",
       "text": [
        "\u001b[K direct_local_left_02Jan17_10h56m23s_Mr_Black\r",
        "\r",
        " [***************       32%                       ]  132 of 411 complete"
       ]
      },
      {
       "output_type": "stream",
       "stream": "stdout",
       "text": [
        "\u001b[K direct_local_rain_15Dec16_14h34m15s_Mr_Orange\r",
        "\r",
        " [***************       32%                       ]  133 of 411 complete"
       ]
      },
      {
       "output_type": "stream",
       "stream": "stdout",
       "text": [
        "\u001b[K direct_local_sidewalks_07Oct16_17h22m44s_Mr_Orange\r",
        "\r"
       ]
      },
      {
       "output_type": "stream",
       "stream": "stdout",
       "text": [
        " [****************      33%                       ]  134 of 411 complete"
       ]
      },
      {
       "output_type": "stream",
       "stream": "stdout",
       "text": [
        "\u001b[K direct_local_sidewalks_08Oct16_18h22m09s_Mr_Orange\r",
        "\r",
        " [****************      33%                       ]  135 of 411 complete"
       ]
      },
      {
       "output_type": "stream",
       "stream": "stdout",
       "text": [
        "\u001b[K direct_local_sidewalks_25Sep16_17h59m02s_Mr_Orange\r",
        "\r"
       ]
      },
      {
       "output_type": "stream",
       "stream": "stdout",
       "text": [
        " [****************      33%                       ]  136 of 411 complete"
       ]
      },
      {
       "output_type": "stream",
       "stream": "stdout",
       "text": [
        "\u001b[K direct_local_sidewalks_26Sep16_18h50m57s_Mr_Blue\r",
        "\r",
        " [****************      33%                       ]  137 of 411 complete"
       ]
      },
      {
       "output_type": "stream",
       "stream": "stdout",
       "text": [
        "\u001b[K direct_local_sidewalks_27Sep16_08h34m36s_Mr_Orange\r",
        "\r",
        " [****************      34%                       ]  138 of 411 complete"
       ]
      },
      {
       "output_type": "stream",
       "stream": "stdout",
       "text": [
        "\u001b[K direct_local_sidewalks_27Sep16_15h12m30s_Mr_Orange\r",
        "\r",
        " [****************      34%                       ]  139 of 411 complete"
       ]
      },
      {
       "output_type": "stream",
       "stream": "stdout",
       "text": [
        "\u001b[K direct_local_sidewalks_27Sep16_16h45m54s_Mr_Orange\r",
        "\r",
        " [****************      34%                       ]  140 of 411 complete"
       ]
      },
      {
       "output_type": "stream",
       "stream": "stdout",
       "text": [
        "\u001b[K direct_muddy_Tilden_14Dec2017_16h00m00s_Mr_Black\r",
        "\r"
       ]
      },
      {
       "output_type": "stream",
       "stream": "stdout",
       "text": [
        " [****************      34%                       ]  141 of 411 complete"
       ]
      },
      {
       "output_type": "stream",
       "stream": "stdout",
       "text": [
        "\u001b[K direct_racing_Tilden_27Nov16_10h04m16s_Mr_Blue\r",
        "\r",
        " [*****************     35%                       ]  142 of 411 complete"
       ]
      },
      {
       "output_type": "stream",
       "stream": "stdout",
       "text": [
        "\u001b[K direct_racing_Tilden_27Nov16_10h18m19s_Mr_Orange\r",
        "\r",
        " [*****************     35%                       ]  143 of 411 complete"
       ]
      },
      {
       "output_type": "stream",
       "stream": "stdout",
       "text": [
        "\u001b[K direct_racing_Tilden_27Nov16_10h20m51s_Mr_Blue\r",
        "\r",
        " [*****************     35%                       ]  144 of 411 complete"
       ]
      },
      {
       "output_type": "stream",
       "stream": "stdout",
       "text": [
        "\u001b[K direct_racing_Tilden_27Nov16_10h41m05s_Mr_Blue\r",
        "\r",
        " [*****************     35%                       ]  145 of 411 complete"
       ]
      },
      {
       "output_type": "stream",
       "stream": "stdout",
       "text": [
        "\u001b[K direct_racing_Tilden_27Nov16_10h42m09s_Mr_Orange\r",
        "\r",
        " [*****************     36%                       ]  146 of 411 complete"
       ]
      },
      {
       "output_type": "stream",
       "stream": "stdout",
       "text": [
        "\u001b[K direct_racing_Tilden_27Nov16_11h06m48s_Mr_Orange\r",
        "\r",
        " [*****************     36%                       ]  147 of 411 complete"
       ]
      },
      {
       "output_type": "stream",
       "stream": "stdout",
       "text": [
        "\u001b[K direct_racing_Tilden_27Nov16_11h08m39s_Mr_Blue\r",
        "\r",
        " [*****************     36%                       ]  148 of 411 complete"
       ]
      },
      {
       "output_type": "stream",
       "stream": "stdout",
       "text": [
        "\u001b[K direct_racing_Tilden_27Nov16_12h20m21s_Mr_Blue\r",
        "\r",
        " [*****************     36%                       ]  149 of 411 complete"
       ]
      },
      {
       "output_type": "stream",
       "stream": "stdout",
       "text": [
        "\u001b[K direct_racing_Tilden_27Nov16_13h28m00s_Mr_Blue\r",
        "\r",
        " [*****************     36%                       ]  150 of 411 complete"
       ]
      },
      {
       "output_type": "stream",
       "stream": "stdout",
       "text": [
        "\u001b[K direct_snow_04Feb17_11h14m00s_Mr_Silver\r",
        "\r",
        " [******************    37%                       ]  151 of 411 complete"
       ]
      },
      {
       "output_type": "stream",
       "stream": "stdout",
       "text": [
        "\u001b[K direct_snow_04Feb17_11h14m09s_Mr_Orange\r",
        "\r",
        " [******************    37%                       ]  152 of 411 complete"
       ]
      },
      {
       "output_type": "stream",
       "stream": "stdout",
       "text": [
        "\u001b[K direct_snow_04Feb17_11h42m46s_Mr_Silver\r",
        "\r",
        " [******************    37%                       ]  153 of 411 complete"
       ]
      },
      {
       "output_type": "stream",
       "stream": "stdout",
       "text": [
        "\u001b[K direct_snow_04Feb17_11h44m43s_Mr_Orange\r",
        "\r",
        " [******************    37%                       ]  154 of 411 complete"
       ]
      },
      {
       "output_type": "stream",
       "stream": "stdout",
       "text": [
        "\u001b[K direct_snow_04Feb17_14h00m51s_Mr_Orange\r",
        "\r",
        " [******************    38%                       ]  155 of 411 complete"
       ]
      },
      {
       "output_type": "stream",
       "stream": "stdout",
       "text": [
        "\u001b[K direct_snow_04Feb17_15h05m32s_Mr_Silver\r",
        "\r"
       ]
      },
      {
       "output_type": "stream",
       "stream": "stdout",
       "text": [
        " [******************    38%                       ]  156 of 411 complete"
       ]
      },
      {
       "output_type": "stream",
       "stream": "stdout",
       "text": [
        "\u001b[K direct_snow_31Dec12_16h09m30s_Mr_Silver\r",
        "\r",
        " [******************    38%                       ]  157 of 411 complete"
       ]
      },
      {
       "output_type": "stream",
       "stream": "stdout",
       "text": [
        "\u001b[K direct_snow_31Dec12_16h23m09s_Mr_Silver\r",
        "\r",
        " [******************    38%                       ]  158 of 411 complete"
       ]
      },
      {
       "output_type": "stream",
       "stream": "stdout",
       "text": [
        "\u001b[K direct_tape_home_01Jan2015_14h48m53s_Mr_Black\r",
        "\r",
        " [*******************   39%                       ]  159 of 411 complete"
       ]
      },
      {
       "output_type": "stream",
       "stream": "stdout",
       "text": [
        "\u001b[K direct_to_campus_08Oct16_08h55m37s_Mr_Orange\r",
        "\r"
       ]
      },
      {
       "output_type": "stream",
       "stream": "stdout",
       "text": [
        " [*******************   39%                       ]  160 of 411 complete"
       ]
      },
      {
       "output_type": "stream",
       "stream": "stdout",
       "text": [
        "\u001b[K flip_caffe2_z2_color_direct_Smyth_tape_18Feb17_14h04m26s_Mr_Orange\r",
        "\r",
        " [*******************   39%                       ]  161 of 411 complete"
       ]
      },
      {
       "output_type": "stream",
       "stream": "stdout",
       "text": [
        "\u001b[K flip_caffe2_z2_color_direct_Smyth_tape_18Feb17_14h21m06s_Mr_Orange\r",
        "\r"
       ]
      },
      {
       "output_type": "stream",
       "stream": "stdout",
       "text": [
        " [*******************   39%                       ]  162 of 411 complete"
       ]
      },
      {
       "output_type": "stream",
       "stream": "stdout",
       "text": [
        "\u001b[K flip_caffe2_z2_color_direct_Smyth_tape_18Feb17_14h55m58s_Mr_Orange\r",
        "\r",
        " [*******************   40%                       ]  163 of 411 complete"
       ]
      },
      {
       "output_type": "stream",
       "stream": "stdout",
       "text": [
        "\u001b[K flip_caffe2_z2_color_direct_Smyth_tape_18Feb17_15h10m06s_Mr_Orange\r",
        "\r",
        " [*******************   40%                       ]  164 of 411 complete"
       ]
      },
      {
       "output_type": "stream",
       "stream": "stdout",
       "text": [
        "\u001b[K flip_caffe2_z2_color_direct_Smyth_tape_18Feb17_15h22m13s_Mr_Orange\r",
        "\r",
        " [*******************   40%                       ]  165 of 411 complete"
       ]
      },
      {
       "output_type": "stream",
       "stream": "stdout",
       "text": [
        "\u001b[K flip_caffe2_z2_color_direct_Smyth_tape_18Feb17_15h36m55s_Mr_Orange\r",
        "\r",
        " [*******************   40%                       ]  166 of 411 complete"
       ]
      },
      {
       "output_type": "stream",
       "stream": "stdout",
       "text": [
        "\u001b[K flip_caffe2_z2_color_direct_Smyth_tape_18Feb17_16h29m12s_Mr_Orange\r",
        "\r",
        " [********************  41%                       ]  167 of 411 complete"
       ]
      },
      {
       "output_type": "stream",
       "stream": "stdout",
       "text": [
        "\u001b[K flip_caffe_direct_Smyth_tape_16Jan17_16h52m24s_Mr_Silver\r",
        "\r",
        " [********************  41%                       ]  168 of 411 complete"
       ]
      },
      {
       "output_type": "stream",
       "stream": "stdout",
       "text": [
        "\u001b[K flip_caffe_direct_Smyth_tape_16Jan17_17h02m46s_Mr_Silver\r",
        "\r",
        " [********************  41%                       ]  169 of 411 complete"
       ]
      },
      {
       "output_type": "stream",
       "stream": "stdout",
       "text": [
        "\u001b[K flip_caffe_direct_Smyth_tape_16Jan17_17h21m39s_Mr_Silver\r",
        "\r",
        " [********************  41%                       ]  170 of 411 complete"
       ]
      },
      {
       "output_type": "stream",
       "stream": "stdout",
       "text": [
        "\u001b[K flip_caffe_direct_local_01Dec16_17h04m44s_Mr_Teal\r",
        "\r"
       ]
      },
      {
       "output_type": "stream",
       "stream": "stdout",
       "text": [
        " [********************  42%                       ]  171 of 411 complete"
       ]
      },
      {
       "output_type": "stream",
       "stream": "stdout",
       "text": [
        "\u001b[K flip_caffe_direct_local_sidewalks_05Dec16_15h03m35s_Mr_Blue\r",
        "\r"
       ]
      },
      {
       "output_type": "stream",
       "stream": "stdout",
       "text": [
        " [********************  42%                       ]  172 of 411 complete"
       ]
      },
      {
       "output_type": "stream",
       "stream": "stdout",
       "text": [
        "\u001b[K flip_caffe_z2_color_caffe2_direct_local_13Feb17_16h47m42s_Mr_Orange\r",
        "\r",
        " [********************  42%                       ]  173 of 411 complete"
       ]
      },
      {
       "output_type": "stream",
       "stream": "stdout",
       "text": [
        "\u001b[K flip_caffe_z2_color_direct_Smyth_tape_15Feb17_14h05m45s_Mr_Orange\r",
        "\r",
        " [********************  42%                       ]  174 of 411 complete"
       ]
      },
      {
       "output_type": "stream",
       "stream": "stdout",
       "text": [
        "\u001b[K flip_caffe_z2_color_direct_Smyth_tape_15Feb17_14h16m50s_Mr_Black\r",
        "\r",
        " [********************* 43%                       ]  175 of 411 complete"
       ]
      },
      {
       "output_type": "stream",
       "stream": "stdout",
       "text": [
        "\u001b[K flip_caffe_z2_color_direct_Smyth_tape_15Feb17_14h20m08s_Mr_Orange\r",
        "\r",
        " [********************* 43%                       ]  176 of 411 complete"
       ]
      },
      {
       "output_type": "stream",
       "stream": "stdout",
       "text": [
        "\u001b[K flip_caffe_z2_color_direct_Smyth_tape_15Feb17_14h41m22s_Mr_Orange\r",
        "\r"
       ]
      },
      {
       "output_type": "stream",
       "stream": "stdout",
       "text": [
        " [********************* 43%                       ]  177 of 411 complete"
       ]
      },
      {
       "output_type": "stream",
       "stream": "stdout",
       "text": [
        "\u001b[K flip_caffe_z2_color_direct_Smyth_tape_15Feb17_14h54m26s_Mr_Black\r",
        "\r",
        " [********************* 43%                       ]  178 of 411 complete"
       ]
      },
      {
       "output_type": "stream",
       "stream": "stdout",
       "text": [
        "\u001b[K flip_caffe_z2_color_direct_Smyth_tape_15Feb17_15h10m29s_Mr_Black\r",
        "\r"
       ]
      },
      {
       "output_type": "stream",
       "stream": "stdout",
       "text": [
        " [********************* 44%                       ]  179 of 411 complete"
       ]
      },
      {
       "output_type": "stream",
       "stream": "stdout",
       "text": [
        "\u001b[K flip_caffe_z2_color_direct_Smyth_tape_15Feb17_15h43m08s_Mr_Orange\r",
        "\r",
        " [********************* 44%                       ]  180 of 411 complete"
       ]
      },
      {
       "output_type": "stream",
       "stream": "stdout",
       "text": [
        "\u001b[K flip_caffe_z2_color_direct_Smyth_tape_15Feb17_16h27m33s_Mr_Black\r",
        "\r"
       ]
      },
      {
       "output_type": "stream",
       "stream": "stdout",
       "text": [
        " [********************* 44%                       ]  181 of 411 complete"
       ]
      },
      {
       "output_type": "stream",
       "stream": "stdout",
       "text": [
        "\u001b[K flip_caffe_z2_color_direct_Smyth_tape_15Feb17_16h29m06s_Mr_Orange\r",
        "\r"
       ]
      },
      {
       "output_type": "stream",
       "stream": "stdout",
       "text": [
        " [********************* 44%                       ]  182 of 411 complete"
       ]
      },
      {
       "output_type": "stream",
       "stream": "stdout",
       "text": [
        "\u001b[K flip_caffe_z2_color_direct_Smyth_tape_single_transmitter_11Feb17_13h40m21s_Mr_Orange\r",
        "\r",
        " [**********************45%                       ]  183 of 411 complete"
       ]
      },
      {
       "output_type": "stream",
       "stream": "stdout",
       "text": [
        "\u001b[K flip_caffe_z2_color_direct_Smyth_tape_single_transmitter_11Feb17_13h40m25s_Mr_Black\r",
        "\r",
        " [**********************45%                       ]  184 of 411 complete"
       ]
      },
      {
       "output_type": "stream",
       "stream": "stdout",
       "text": [
        "\u001b[K flip_caffe_z2_color_direct_Smyth_tape_single_transmitter_11Feb17_13h40m30s_Mr_Silver\r",
        "\r",
        " [**********************45%                       ]  185 of 411 complete"
       ]
      },
      {
       "output_type": "stream",
       "stream": "stdout",
       "text": [
        "\u001b[K flip_caffe_z2_color_direct_Smyth_tape_single_transmitter_11Feb17_13h47m25s_Mr_Silver\r",
        "\r",
        " [**********************45%                       ]  186 of 411 complete"
       ]
      },
      {
       "output_type": "stream",
       "stream": "stdout",
       "text": [
        "\u001b[K flip_caffe_z2_color_direct_Smyth_tape_single_transmitter_11Feb17_13h47m27s_Mr_Blue\r",
        "\r",
        " [**********************45%                       ]  187 of 411 complete"
       ]
      },
      {
       "output_type": "stream",
       "stream": "stdout",
       "text": [
        "\u001b[K flip_caffe_z2_color_direct_Smyth_tape_single_transmitter_11Feb17_13h47m29s_Mr_Black\r",
        "\r",
        " [**********************46%                       ]  188 of 411 complete"
       ]
      },
      {
       "output_type": "stream",
       "stream": "stdout",
       "text": [
        "\u001b[K flip_caffe_z2_color_direct_Smyth_tape_single_transmitter_11Feb17_13h47m51s_Mr_Orange\r",
        "\r",
        " [**********************46%                       ]  189 of 411 complete"
       ]
      },
      {
       "output_type": "stream",
       "stream": "stdout",
       "text": [
        "\u001b[K flip_caffe_z2_color_direct_Smyth_tape_single_transmitter_11Feb17_13h54m22s_Mr_Orange\r",
        "\r",
        " [**********************46%                       ]  190 of 411 complete"
       ]
      },
      {
       "output_type": "stream",
       "stream": "stdout",
       "text": [
        "\u001b[K flip_caffe_z2_color_direct_Smyth_tape_single_transmitter_11Feb17_13h54m26s_Mr_Silver\r",
        "\r",
        " [**********************46%                       ]  191 of 411 complete"
       ]
      },
      {
       "output_type": "stream",
       "stream": "stdout",
       "text": [
        "\u001b[K flip_caffe_z2_color_direct_Smyth_tape_single_transmitter_11Feb17_13h54m33s_Mr_Teal\r",
        "\r",
        " [**********************47%                       ]  192 of 411 complete"
       ]
      },
      {
       "output_type": "stream",
       "stream": "stdout",
       "text": [
        "\u001b[K flip_caffe_z2_color_direct_Smyth_tape_single_transmitter_11Feb17_13h54m34s_Mr_Black\r",
        "\r",
        " [**********************47%                       ]  193 of 411 complete"
       ]
      },
      {
       "output_type": "stream",
       "stream": "stdout",
       "text": [
        "\u001b[K flip_caffe_z2_color_direct_Smyth_tape_single_transmitter_11Feb17_14h06m16s_Mr_Blue\r",
        "\r",
        " [**********************47%                       ]  194 of 411 complete"
       ]
      },
      {
       "output_type": "stream",
       "stream": "stdout",
       "text": [
        "\u001b[K flip_caffe_z2_color_direct_Smyth_tape_single_transmitter_11Feb17_14h08m41s_Mr_Silver\r",
        "\r",
        " [**********************47%                       ]  195 of 411 complete"
       ]
      },
      {
       "output_type": "stream",
       "stream": "stdout",
       "text": [
        "\u001b[K flip_caffe_z2_color_direct_Smyth_tape_single_transmitter_11Feb17_14h16m41s_Mr_Teal\r",
        "\r",
        " [**********************48%                       ]  196 of 411 complete"
       ]
      },
      {
       "output_type": "stream",
       "stream": "stdout",
       "text": [
        "\u001b[K flip_caffe_z2_color_direct_Smyth_tape_single_transmitter_11Feb17_14h19m16s_Mr_Black\r",
        "\r",
        " [**********************48%                       ]  197 of 411 complete"
       ]
      },
      {
       "output_type": "stream",
       "stream": "stdout",
       "text": [
        "\u001b[K flip_caffe_z2_color_direct_Smyth_tape_single_transmitter_11Feb17_15h07m11s_Mr_Blue\r",
        "\r",
        " [**********************48%                       ]  198 of 411 complete"
       ]
      },
      {
       "output_type": "stream",
       "stream": "stdout",
       "text": [
        "\u001b[K flip_caffe_z2_color_direct_auto_start_13Feb17_17h51m36s_Mr_Black\r",
        "\r",
        " [**********************48%                       ]  199 of 411 complete"
       ]
      },
      {
       "output_type": "stream",
       "stream": "stdout",
       "text": [
        "\u001b[K flip_caffe_z2_direct_Smyth_17Dec16_12h56m18s_Mr_Orange\r",
        "\r",
        " [**********************49%                       ]  200 of 411 complete"
       ]
      },
      {
       "output_type": "stream",
       "stream": "stdout",
       "text": [
        "\u001b[K flip_caffe_z2_direct_Tilden_22Dec16_14h13m11s_Mr_Teal\r",
        "\r",
        " [**********************49%                       ]  201 of 411 complete"
       ]
      },
      {
       "output_type": "stream",
       "stream": "stdout",
       "text": [
        "\u001b[K flip_caffe_z2_direct_Tilden_22Dec16_14h29m03s_Mr_Teal\r",
        "\r",
        " [**********************49%                       ]  202 of 411 complete"
       ]
      },
      {
       "output_type": "stream",
       "stream": "stdout",
       "text": [
        "\u001b[K flip_caffe_z2_direct_Tilden_23Dec16_15h22m12s_Mr_Orange\r",
        "\r"
       ]
      },
      {
       "output_type": "stream",
       "stream": "stdout",
       "text": [
        " [**********************49%                       ]  203 of 411 complete"
       ]
      },
      {
       "output_type": "stream",
       "stream": "stdout",
       "text": [
        "\u001b[K flip_caffe_z2_direct_campus_10Oct16_17h46m23s_Mr_Orange\r",
        "\r",
        " [**********************50%                       ]  204 of 411 complete"
       ]
      },
      {
       "output_type": "stream",
       "stream": "stdout",
       "text": [
        "\u001b[K flip_caffe_z2_direct_campus_25Sep16_08h44m07s_Mr_Orange\r",
        "\r",
        " [**********************50%                       ]  205 of 411 complete"
       ]
      },
      {
       "output_type": "stream",
       "stream": "stdout",
       "text": [
        "\u001b[K flip_caffe_z2_direct_local_04Dec16_16h09m26s_Mr_Orange\r",
        "\r"
       ]
      },
      {
       "output_type": "stream",
       "stream": "stdout",
       "text": [
        " [**********************50%                       ]  206 of 411 complete"
       ]
      },
      {
       "output_type": "stream",
       "stream": "stdout",
       "text": [
        "\u001b[K flip_caffe_z2_direct_local_16Dec16_10h25m11s_Mr_White\r",
        "\r",
        " [**********************50%                       ]  207 of 411 complete"
       ]
      },
      {
       "output_type": "stream",
       "stream": "stdout",
       "text": [
        "\u001b[K flip_caffe_z2_direct_local_25Nov16_15h56m18s_Mr_Teal\r",
        "\r",
        " [**********************51%                       ]  208 of 411 complete"
       ]
      },
      {
       "output_type": "stream",
       "stream": "stdout",
       "text": [
        "\u001b[K flip_caffe_z2_direct_local_25Nov16_16h26m08s_Mr_Teal\r",
        "\r",
        " [**********************51%                       ]  209 of 411 complete"
       ]
      },
      {
       "output_type": "stream",
       "stream": "stdout",
       "text": [
        "\u001b[K flip_caffe_z2_direct_local_27Nov16_09h53m46s_Mr_Orange\r",
        "\r",
        " [**********************51%                       ]  210 of 411 complete"
       ]
      },
      {
       "output_type": "stream",
       "stream": "stdout",
       "text": [
        "\u001b[K flip_caffe_z2_direct_local_31Dec12_16h08m59s_Mr_Orange\r",
        "\r",
        " [**********************51%                       ]  211 of 411 complete"
       ]
      },
      {
       "output_type": "stream",
       "stream": "stdout",
       "text": [
        "\u001b[K flip_caffe_z2_direct_local_31Dec12_16h15m29s_Mr_Silver\r",
        "\r",
        " [**********************52%                       ]  212 of 411 complete"
       ]
      },
      {
       "output_type": "stream",
       "stream": "stdout",
       "text": [
        "\u001b[K flip_caffe_z2_direct_local_31Dec12_16h15m44s_Mr_Yellow\r",
        "\r",
        " [**********************52%                       ]  213 of 411 complete"
       ]
      },
      {
       "output_type": "stream",
       "stream": "stdout",
       "text": [
        "\u001b[K flip_caffe_z2_direct_local_sidewalks_02Oct16_15h53m07s_Mr_Orange\r",
        "\r"
       ]
      },
      {
       "output_type": "stream",
       "stream": "stdout",
       "text": [
        " [**********************52%                       ]  214 of 411 complete"
       ]
      },
      {
       "output_type": "stream",
       "stream": "stdout",
       "text": [
        "\u001b[K flip_caffe_z2_direct_local_sidewalks_08Oct16_17h40m36s_Mr_Orange\r",
        "\r"
       ]
      },
      {
       "output_type": "stream",
       "stream": "stdout",
       "text": [
        " [**********************52%                       ]  215 of 411 complete"
       ]
      },
      {
       "output_type": "stream",
       "stream": "stdout",
       "text": [
        "\u001b[K flip_caffe_z2_direct_local_sidewalks_09Oct16_08h30m15s_Mr_Orange\r",
        "\r"
       ]
      },
      {
       "output_type": "stream",
       "stream": "stdout",
       "text": [
        " [**********************53%                       ]  216 of 411 complete"
       ]
      },
      {
       "output_type": "stream",
       "stream": "stdout",
       "text": [
        "\u001b[K flip_caffe_z2_direct_local_sidewalks_09Oct16_10h28m19s_Mr_Orange\r",
        "\r"
       ]
      },
      {
       "output_type": "stream",
       "stream": "stdout",
       "text": [
        " [**********************53%                       ]  217 of 411 complete"
       ]
      },
      {
       "output_type": "stream",
       "stream": "stdout",
       "text": [
        "\u001b[K flip_caffe_z2_direct_local_sidewalks_09Oct16_17h32m24s_Mr_Orange\r",
        "\r"
       ]
      },
      {
       "output_type": "stream",
       "stream": "stdout",
       "text": [
        " [**********************53%                       ]  218 of 411 complete"
       ]
      },
      {
       "output_type": "stream",
       "stream": "stdout",
       "text": [
        "\u001b[K flip_caffe_z2_direct_local_sidewalks_24Sep16_13h43m32s_Mr_Orange\r",
        "\r",
        " [**********************53%                       ]  219 of 411 complete"
       ]
      },
      {
       "output_type": "stream",
       "stream": "stdout",
       "text": [
        "\u001b[K flip_caffe_z2_direct_local_sidewalks_24Sep16_18h18m40s_Mr_Blue\r",
        "\r"
       ]
      },
      {
       "output_type": "stream",
       "stream": "stdout",
       "text": [
        " [**********************54%*                      ]  220 of 411 complete"
       ]
      },
      {
       "output_type": "stream",
       "stream": "stdout",
       "text": [
        "\u001b[K flip_caffe_z2_direct_local_sidewalks_28Sep16_08h06m57s_Mr_Orange\r",
        "\r"
       ]
      },
      {
       "output_type": "stream",
       "stream": "stdout",
       "text": [
        " [**********************54%*                      ]  221 of 411 complete"
       ]
      },
      {
       "output_type": "stream",
       "stream": "stdout",
       "text": [
        "\u001b[K flip_caffe_z2_direct_local_with_Mr_Black_29Dec16_16h21m28s_Mr_Silver\r",
        "\r",
        " [**********************54%*                      ]  222 of 411 complete"
       ]
      },
      {
       "output_type": "stream",
       "stream": "stdout",
       "text": [
        "\u001b[K flip_caffe_z2_play_campus_10Oct16_17h58m02s_Mr_Orange\r",
        "\r",
        " [**********************54%*                      ]  223 of 411 complete"
       ]
      },
      {
       "output_type": "stream",
       "stream": "stdout",
       "text": [
        "\u001b[K flip_caffe_z2_racing_Smyth_17Dec16_13h43m27s_Mr_Orange\r",
        "\r",
        " [**********************55%*                      ]  224 of 411 complete"
       ]
      },
      {
       "output_type": "stream",
       "stream": "stdout",
       "text": [
        "\u001b[K flip_direct_1Sept2016_Mr_Orange_local_sidewalks\r",
        "\r"
       ]
      },
      {
       "output_type": "stream",
       "stream": "stdout",
       "text": [
        " [**********************55%*                      ]  225 of 411 complete"
       ]
      },
      {
       "output_type": "stream",
       "stream": "stdout",
       "text": [
        "\u001b[K flip_direct_2Sept2016_Mr_Orange_to_Evans_and_back_1\r",
        "\r"
       ]
      },
      {
       "output_type": "stream",
       "stream": "stdout",
       "text": [
        " [**********************55%*                      ]  226 of 411 complete"
       ]
      },
      {
       "output_type": "stream",
       "stream": "stdout",
       "text": [
        "\u001b[K flip_direct_2Sept2016_Mr_Orange_to_Evans_and_back_2\r",
        "\r"
       ]
      },
      {
       "output_type": "stream",
       "stream": "stdout",
       "text": [
        " [**********************55%*                      ]  227 of 411 complete"
       ]
      },
      {
       "output_type": "stream",
       "stream": "stdout",
       "text": [
        "\u001b[K flip_direct_11August2016.1470934701.330023\r",
        "\r"
       ]
      },
      {
       "output_type": "stream",
       "stream": "stdout",
       "text": [
        " [**********************55%*                      ]  228 of 411 complete"
       ]
      },
      {
       "output_type": "stream",
       "stream": "stdout",
       "text": [
        "\u001b[K flip_direct_11August2016.1470950678.765195\r",
        "\r"
       ]
      },
      {
       "output_type": "stream",
       "stream": "stdout",
       "text": [
        " [**********************56%**                     ]  229 of 411 complete"
       ]
      },
      {
       "output_type": "stream",
       "stream": "stdout",
       "text": [
        "\u001b[K flip_direct_31Aug2016_Mr_Blue_sidewalks_1\r",
        "\r",
        " [**********************56%**                     ]  230 of 411 complete"
       ]
      },
      {
       "output_type": "stream",
       "stream": "stdout",
       "text": [
        "\u001b[K flip_direct_31Aug2016_Mr_Blue_sidewalks_2\r",
        "\r"
       ]
      },
      {
       "output_type": "stream",
       "stream": "stdout",
       "text": [
        " [**********************56%**                     ]  231 of 411 complete"
       ]
      },
      {
       "output_type": "stream",
       "stream": "stdout",
       "text": [
        "\u001b[K flip_direct_Smyth_tape_14Jan17_14h28m13s_Mr_Silver\r",
        "\r",
        " [**********************56%**                     ]  232 of 411 complete"
       ]
      },
      {
       "output_type": "stream",
       "stream": "stdout",
       "text": [
        "\u001b[K flip_direct_Smyth_tape_14Jan17_15h07m09s_Mr_Silver\r",
        "\r"
       ]
      },
      {
       "output_type": "stream",
       "stream": "stdout",
       "text": [
        " [**********************57%**                     ]  233 of 411 complete"
       ]
      },
      {
       "output_type": "stream",
       "stream": "stdout",
       "text": [
        "\u001b[K flip_direct_Smyth_tape_14Jan17_15h50m17s_Mr_Silver\r",
        "\r"
       ]
      },
      {
       "output_type": "stream",
       "stream": "stdout",
       "text": [
        " [**********************57%**                     ]  234 of 411 complete"
       ]
      },
      {
       "output_type": "stream",
       "stream": "stdout",
       "text": [
        "\u001b[K flip_direct_Smyth_tape_14Jan17_16h40m22s_Mr_Silver\r",
        "\r"
       ]
      },
      {
       "output_type": "stream",
       "stream": "stdout",
       "text": [
        " [**********************57%**                     ]  235 of 411 complete"
       ]
      },
      {
       "output_type": "stream",
       "stream": "stdout",
       "text": [
        "\u001b[K flip_direct_Smyth_tape_15Jan17_15h08m50s_Mr_Silver\r",
        "\r"
       ]
      },
      {
       "output_type": "stream",
       "stream": "stdout",
       "text": [
        " [**********************57%**                     ]  236 of 411 complete"
       ]
      },
      {
       "output_type": "stream",
       "stream": "stdout",
       "text": [
        "\u001b[K flip_direct_Smyth_tape_15Jan17_16h08m35s_Mr_Silver\r",
        "\r"
       ]
      },
      {
       "output_type": "stream",
       "stream": "stdout",
       "text": [
        " [**********************58%***                    ]  237 of 411 complete"
       ]
      },
      {
       "output_type": "stream",
       "stream": "stdout",
       "text": [
        "\u001b[K flip_direct_Smyth_tape_17Jan17_15h38m58s_Mr_Silver\r",
        "\r"
       ]
      },
      {
       "output_type": "stream",
       "stream": "stdout",
       "text": [
        " [**********************58%***                    ]  238 of 411 complete"
       ]
      },
      {
       "output_type": "stream",
       "stream": "stdout",
       "text": [
        "\u001b[K flip_direct_Smyth_tape_25Jan17_11h42m20s_Mr_Silver\r",
        "\r",
        " [**********************58%***                    ]  239 of 411 complete"
       ]
      },
      {
       "output_type": "stream",
       "stream": "stdout",
       "text": [
        "\u001b[K flip_direct_Smyth_tape_25Jan17_18h26m41s_Mr_Yellow\r",
        "\r"
       ]
      },
      {
       "output_type": "stream",
       "stream": "stdout",
       "text": [
        " [**********************58%***                    ]  240 of 411 complete"
       ]
      },
      {
       "output_type": "stream",
       "stream": "stdout",
       "text": [
        "\u001b[K flip_direct_Smyth_tape_25Jan17_19h24m14s_Mr_Yellow\r",
        "\r",
        " [**********************59%***                    ]  241 of 411 complete"
       ]
      },
      {
       "output_type": "stream",
       "stream": "stdout",
       "text": [
        "\u001b[K flip_direct_Smyth_tape_26Jan17_16h27m58s_Mr_Silver\r",
        "\r",
        " [**********************59%***                    ]  242 of 411 complete"
       ]
      },
      {
       "output_type": "stream",
       "stream": "stdout",
       "text": [
        "\u001b[K flip_direct_Smyth_tape_26Jan17_16h45m47s_Mr_Silver\r",
        "\r"
       ]
      },
      {
       "output_type": "stream",
       "stream": "stdout",
       "text": [
        " [**********************59%***                    ]  243 of 411 complete"
       ]
      },
      {
       "output_type": "stream",
       "stream": "stdout",
       "text": [
        "\u001b[K flip_direct_Smyth_tape_27Jan17_11h41m55s_Mr_Silver\r",
        "\r",
        " [**********************59%***                    ]  244 of 411 complete"
       ]
      },
      {
       "output_type": "stream",
       "stream": "stdout",
       "text": [
        "\u001b[K flip_direct_Smyth_tape_27Jan17_12h04m31s_Mr_Silver\r",
        "\r"
       ]
      },
      {
       "output_type": "stream",
       "stream": "stdout",
       "text": [
        " [**********************60%****                   ]  245 of 411 complete"
       ]
      },
      {
       "output_type": "stream",
       "stream": "stdout",
       "text": [
        "\u001b[K flip_direct_Smyth_tape_31Jan17_12h47m47s_Mr_Silver\r",
        "\r"
       ]
      },
      {
       "output_type": "stream",
       "stream": "stdout",
       "text": [
        " [**********************60%****                   ]  246 of 411 complete"
       ]
      },
      {
       "output_type": "stream",
       "stream": "stdout",
       "text": [
        "\u001b[K flip_direct_Smyth_tape_31Jan17_13h01m44s_Mr_Orange\r",
        "\r",
        " [**********************60%****                   ]  247 of 411 complete"
       ]
      },
      {
       "output_type": "stream",
       "stream": "stdout",
       "text": [
        "\u001b[K flip_direct_Smyth_tape_31Jan17_14h00m03s_Mr_Orange\r",
        "\r"
       ]
      },
      {
       "output_type": "stream",
       "stream": "stdout",
       "text": [
        " [**********************60%****                   ]  248 of 411 complete"
       ]
      },
      {
       "output_type": "stream",
       "stream": "stdout",
       "text": [
        "\u001b[K flip_direct_Smyth_tape_31Jan17_14h12m04s_Mr_Silver\r",
        "\r"
       ]
      },
      {
       "output_type": "stream",
       "stream": "stdout",
       "text": [
        " [**********************61%****                   ]  249 of 411 complete"
       ]
      },
      {
       "output_type": "stream",
       "stream": "stdout",
       "text": [
        "\u001b[K flip_direct_Smyth_tape_31Jan17_14h47m02s_Mr_Silver\r",
        "\r",
        " [**********************61%****                   ]  250 of 411 complete"
       ]
      },
      {
       "output_type": "stream",
       "stream": "stdout",
       "text": [
        "\u001b[K flip_direct_Smyth_tape_31Jan17_15h19m31s_Mr_Orange\r",
        "\r"
       ]
      },
      {
       "output_type": "stream",
       "stream": "stdout",
       "text": [
        " [**********************61%****                   ]  251 of 411 complete"
       ]
      },
      {
       "output_type": "stream",
       "stream": "stdout",
       "text": [
        "\u001b[K flip_direct_Smyth_tape_31Jan17_15h20m51s_Mr_Silver\r",
        "\r",
        " [**********************61%****                   ]  252 of 411 complete"
       ]
      },
      {
       "output_type": "stream",
       "stream": "stdout",
       "text": [
        "\u001b[K flip_direct_Smyth_tape_31Jan17_15h36m17s_Mr_Silver\r",
        "\r",
        " [**********************62%*****                  ]  253 of 411 complete"
       ]
      },
      {
       "output_type": "stream",
       "stream": "stdout",
       "text": [
        "\u001b[K flip_direct_Smyth_tape_31Jan17_16h01m10s_Mr_Orange\r",
        "\r"
       ]
      },
      {
       "output_type": "stream",
       "stream": "stdout",
       "text": [
        " [**********************62%*****                  ]  254 of 411 complete"
       ]
      },
      {
       "output_type": "stream",
       "stream": "stdout",
       "text": [
        "\u001b[K flip_direct_Smyth_tape_31Jan17_16h07m42s_Mr_Silver\r",
        "\r",
        " [**********************62%*****                  ]  255 of 411 complete"
       ]
      },
      {
       "output_type": "stream",
       "stream": "stdout",
       "text": [
        "\u001b[K flip_direct_Smyth_tape_31Jan17_16h50m29s_Mr_Orange\r",
        "\r",
        " [**********************62%*****                  ]  256 of 411 complete"
       ]
      },
      {
       "output_type": "stream",
       "stream": "stdout",
       "text": [
        "\u001b[K flip_direct_Smyth_tape_31Jan17_16h50m45s_Mr_Silver\r",
        "\r",
        " [**********************63%*****                  ]  257 of 411 complete"
       ]
      },
      {
       "output_type": "stream",
       "stream": "stdout",
       "text": [
        "\u001b[K flip_direct_Tilden_22Dec16_15h40m29s_Mr_Orange\r",
        "\r"
       ]
      },
      {
       "output_type": "stream",
       "stream": "stdout",
       "text": [
        " [**********************63%*****                  ]  258 of 411 complete"
       ]
      },
      {
       "output_type": "stream",
       "stream": "stdout",
       "text": [
        "\u001b[K flip_direct_auto_start_31Dec12_16h00m37s_Mr_Silver\r",
        "\r"
       ]
      },
      {
       "output_type": "stream",
       "stream": "stdout",
       "text": [
        " [**********************63%*****                  ]  259 of 411 complete"
       ]
      },
      {
       "output_type": "stream",
       "stream": "stdout",
       "text": [
        "\u001b[K flip_direct_caffe2_local_01Feb17_16h18m25s_Mr_Silver\r",
        "\r",
        " [**********************63%*****                  ]  260 of 411 complete"
       ]
      },
      {
       "output_type": "stream",
       "stream": "stdout",
       "text": [
        "\u001b[K flip_direct_caffe_local_29Jan17_00h44m46s_Mr_Yellow\r",
        "\r"
       ]
      },
      {
       "output_type": "stream",
       "stream": "stdout",
       "text": [
        " [**********************64%******                 ]  261 of 411 complete"
       ]
      },
      {
       "output_type": "stream",
       "stream": "stdout",
       "text": [
        "\u001b[K flip_direct_campus_25Sep16_09h34m37s_Mr_Orange\r",
        "\r",
        " [**********************64%******                 ]  262 of 411 complete"
       ]
      },
      {
       "output_type": "stream",
       "stream": "stdout",
       "text": [
        "\u001b[K flip_direct_from_campus2_08Oct16_10h15m19s_Mr_Orange\r",
        "\r",
        " [**********************64%******                 ]  263 of 411 complete"
       ]
      },
      {
       "output_type": "stream",
       "stream": "stdout",
       "text": [
        "\u001b[K flip_direct_from_campus_31Dec12_10h00m00s_Mr_Orange\r",
        "\r",
        " [**********************64%******                 ]  264 of 411 complete"
       ]
      },
      {
       "output_type": "stream",
       "stream": "stdout",
       "text": [
        "\u001b[K flip_direct_home_01Dec16_20h51m08s_Mr_Orange\r",
        "\r",
        " [**********************64%******                 ]  265 of 411 complete"
       ]
      },
      {
       "output_type": "stream",
       "stream": "stdout",
       "text": [
        "\u001b[K flip_direct_home_01Dec16_20h59m43s_Mr_Orange\r",
        "\r",
        " [**********************65%******                 ]  266 of 411 complete"
       ]
      },
      {
       "output_type": "stream",
       "stream": "stdout",
       "text": [
        "\u001b[K flip_direct_home_06Dec16_08h10m47s_Mr_Blue\r",
        "\r",
        " [**********************65%******                 ]  267 of 411 complete"
       ]
      },
      {
       "output_type": "stream",
       "stream": "stdout",
       "text": [
        "\u001b[K flip_direct_home_06Dec16_16h01m42s_Mr_Blue\r",
        "\r"
       ]
      },
      {
       "output_type": "stream",
       "stream": "stdout",
       "text": [
        " [**********************65%******                 ]  268 of 411 complete"
       ]
      },
      {
       "output_type": "stream",
       "stream": "stdout",
       "text": [
        "\u001b[K flip_direct_local_01Jan17_14h59m21s_Mr_Black\r",
        "\r"
       ]
      },
      {
       "output_type": "stream",
       "stream": "stdout",
       "text": [
        " [**********************65%******                 ]  269 of 411 complete"
       ]
      },
      {
       "output_type": "stream",
       "stream": "stdout",
       "text": [
        "\u001b[K flip_direct_local_02Jan17_09h53m59s_Mr_Black\r",
        "\r"
       ]
      },
      {
       "output_type": "stream",
       "stream": "stdout",
       "text": [
        " [**********************66%*******                ]  270 of 411 complete"
       ]
      },
      {
       "output_type": "stream",
       "stream": "stdout",
       "text": [
        "\u001b[K flip_direct_local_05Jan17_15h31m58s_Mr_Black\r",
        "\r",
        " [**********************66%*******                ]  271 of 411 complete"
       ]
      },
      {
       "output_type": "stream",
       "stream": "stdout",
       "text": [
        "\u001b[K flip_direct_local_09Dec16_13h26m33s_Mr_Orange\r",
        "\r"
       ]
      },
      {
       "output_type": "stream",
       "stream": "stdout",
       "text": [
        " [**********************66%*******                ]  272 of 411 complete"
       ]
      },
      {
       "output_type": "stream",
       "stream": "stdout",
       "text": [
        "\u001b[K flip_direct_local_10Dec16_14h55m54s_Mr_Orange\r",
        "\r"
       ]
      },
      {
       "output_type": "stream",
       "stream": "stdout",
       "text": [
        " [**********************66%*******                ]  273 of 411 complete"
       ]
      },
      {
       "output_type": "stream",
       "stream": "stdout",
       "text": [
        "\u001b[K flip_direct_local_11Dec16_16h11m03s_Mr_Orange\r",
        "\r"
       ]
      },
      {
       "output_type": "stream",
       "stream": "stdout",
       "text": [
        " [**********************67%*******                ]  274 of 411 complete"
       ]
      },
      {
       "output_type": "stream",
       "stream": "stdout",
       "text": [
        "\u001b[K flip_direct_local_13Dec16_16h12m24s_Mr_Orange\r",
        "\r",
        " [**********************67%*******                ]  275 of 411 complete"
       ]
      },
      {
       "output_type": "stream",
       "stream": "stdout",
       "text": [
        "\u001b[K flip_direct_local_14Dec16_12h18m11s_Mr_Orange\r",
        "\r",
        " [**********************67%*******                ]  276 of 411 complete"
       ]
      },
      {
       "output_type": "stream",
       "stream": "stdout",
       "text": [
        "\u001b[K flip_direct_local_14Dec16_12h54m17s_Mr_Orange\r",
        "\r",
        " [**********************67%*******                ]  277 of 411 complete"
       ]
      },
      {
       "output_type": "stream",
       "stream": "stdout",
       "text": [
        "\u001b[K flip_direct_local_14Dec16_14h24m41s_Mr_Orange\r",
        "\r",
        " [**********************68%********               ]  278 of 411 complete"
       ]
      },
      {
       "output_type": "stream",
       "stream": "stdout",
       "text": [
        "\u001b[K flip_direct_local_14Dec16_14h47m08s_Mr_Orange\r",
        "\r",
        " [**********************68%********               ]  279 of 411 complete"
       ]
      },
      {
       "output_type": "stream",
       "stream": "stdout",
       "text": [
        "\u001b[K flip_direct_local_16Dec16_16h51m32s_Mr_Orange\r",
        "\r"
       ]
      },
      {
       "output_type": "stream",
       "stream": "stdout",
       "text": [
        " [**********************68%********               ]  280 of 411 complete"
       ]
      },
      {
       "output_type": "stream",
       "stream": "stdout",
       "text": [
        "\u001b[K flip_direct_local_17Dec16_16h29m16s_Mr_Blue\r",
        "\r"
       ]
      },
      {
       "output_type": "stream",
       "stream": "stdout",
       "text": [
        " [**********************68%********               ]  281 of 411 complete"
       ]
      },
      {
       "output_type": "stream",
       "stream": "stdout",
       "text": [
        "\u001b[K flip_direct_local_19Dec16_16h00m00s_Mr_Orange\r",
        "\r",
        " [**********************69%********               ]  282 of 411 complete"
       ]
      },
      {
       "output_type": "stream",
       "stream": "stdout",
       "text": [
        "\u001b[K flip_direct_local_19Dec16_17h03m58s_Mr_Orange\r",
        "\r",
        " [**********************69%********               ]  283 of 411 complete"
       ]
      },
      {
       "output_type": "stream",
       "stream": "stdout",
       "text": [
        "\u001b[K flip_direct_local_20Nov16_16h23m41s_Mr_Yellow\r",
        "\r",
        " [**********************69%********               ]  284 of 411 complete"
       ]
      },
      {
       "output_type": "stream",
       "stream": "stdout",
       "text": [
        "\u001b[K flip_direct_local_20Nov16_17h21m13s_Mr_Yellow\r",
        "\r",
        " [**********************69%********               ]  285 of 411 complete"
       ]
      },
      {
       "output_type": "stream",
       "stream": "stdout",
       "text": [
        "\u001b[K flip_direct_local_21Nov16_17h39m00s_Mr_Yellow\r",
        "\r",
        " [**********************70%*********              ]  286 of 411 complete"
       ]
      },
      {
       "output_type": "stream",
       "stream": "stdout",
       "text": [
        "\u001b[K flip_direct_local_23Dec16_09h54m27s_Mr_Orange\r",
        "\r",
        " [**********************70%*********              ]  287 of 411 complete"
       ]
      },
      {
       "output_type": "stream",
       "stream": "stdout",
       "text": [
        "\u001b[K flip_direct_local_23Dec16_10h17m14s_Mr_Orange\r",
        "\r",
        " [**********************70%*********              ]  288 of 411 complete"
       ]
      },
      {
       "output_type": "stream",
       "stream": "stdout",
       "text": [
        "\u001b[K flip_direct_local_29Dec16_16h15m39s_Mr_Black_with_Mr_Silver\r",
        "\r",
        " [**********************70%*********              ]  289 of 411 complete"
       ]
      },
      {
       "output_type": "stream",
       "stream": "stdout",
       "text": [
        "\u001b[K flip_direct_local_30Jan17_12h47m24s_Mr_Silver\r",
        "\r"
       ]
      },
      {
       "output_type": "stream",
       "stream": "stdout",
       "text": [
        " [**********************71%*********              ]  290 of 411 complete"
       ]
      },
      {
       "output_type": "stream",
       "stream": "stdout",
       "text": [
        "\u001b[K flip_direct_local_left_02Jan17_10h56m23s_Mr_Black\r",
        "\r",
        " [**********************71%*********              ]  291 of 411 complete"
       ]
      },
      {
       "output_type": "stream",
       "stream": "stdout",
       "text": [
        "\u001b[K flip_direct_local_rain_15Dec16_14h34m15s_Mr_Orange\r",
        "\r",
        " [**********************71%*********              ]  292 of 411 complete"
       ]
      },
      {
       "output_type": "stream",
       "stream": "stdout",
       "text": [
        "\u001b[K flip_direct_local_sidewalks_07Oct16_17h22m44s_Mr_Orange\r",
        "\r"
       ]
      },
      {
       "output_type": "stream",
       "stream": "stdout",
       "text": [
        " [**********************71%*********              ]  293 of 411 complete"
       ]
      },
      {
       "output_type": "stream",
       "stream": "stdout",
       "text": [
        "\u001b[K flip_direct_local_sidewalks_08Oct16_18h22m09s_Mr_Orange\r",
        "\r",
        " [**********************72%**********             ]  294 of 411 complete"
       ]
      },
      {
       "output_type": "stream",
       "stream": "stdout",
       "text": [
        "\u001b[K flip_direct_local_sidewalks_25Sep16_17h59m02s_Mr_Orange\r",
        "\r"
       ]
      },
      {
       "output_type": "stream",
       "stream": "stdout",
       "text": [
        " [**********************72%**********             ]  295 of 411 complete"
       ]
      },
      {
       "output_type": "stream",
       "stream": "stdout",
       "text": [
        "\u001b[K flip_direct_local_sidewalks_26Sep16_18h50m57s_Mr_Blue\r",
        "\r",
        " [**********************72%**********             ]  296 of 411 complete"
       ]
      },
      {
       "output_type": "stream",
       "stream": "stdout",
       "text": [
        "\u001b[K flip_direct_local_sidewalks_27Sep16_08h34m36s_Mr_Orange\r",
        "\r",
        " [**********************72%**********             ]  297 of 411 complete"
       ]
      },
      {
       "output_type": "stream",
       "stream": "stdout",
       "text": [
        "\u001b[K flip_direct_local_sidewalks_27Sep16_15h12m30s_Mr_Orange\r",
        "\r",
        " [**********************73%**********             ]  298 of 411 complete"
       ]
      },
      {
       "output_type": "stream",
       "stream": "stdout",
       "text": [
        "\u001b[K flip_direct_local_sidewalks_27Sep16_16h45m54s_Mr_Orange\r",
        "\r",
        " [**********************73%**********             ]  299 of 411 complete"
       ]
      },
      {
       "output_type": "stream",
       "stream": "stdout",
       "text": [
        "\u001b[K flip_direct_muddy_Tilden_14Dec2017_16h00m00s_Mr_Black\r",
        "\r"
       ]
      },
      {
       "output_type": "stream",
       "stream": "stdout",
       "text": [
        " [**********************73%**********             ]  300 of 411 complete"
       ]
      },
      {
       "output_type": "stream",
       "stream": "stdout",
       "text": [
        "\u001b[K flip_direct_racing_Tilden_27Nov16_10h04m16s_Mr_Blue\r",
        "\r",
        " [**********************73%**********             ]  301 of 411 complete"
       ]
      },
      {
       "output_type": "stream",
       "stream": "stdout",
       "text": [
        "\u001b[K flip_direct_racing_Tilden_27Nov16_10h18m19s_Mr_Orange\r",
        "\r"
       ]
      },
      {
       "output_type": "stream",
       "stream": "stdout",
       "text": [
        " [**********************73%**********             ]  302 of 411 complete"
       ]
      },
      {
       "output_type": "stream",
       "stream": "stdout",
       "text": [
        "\u001b[K flip_direct_racing_Tilden_27Nov16_10h20m51s_Mr_Blue\r",
        "\r",
        " [**********************74%***********            ]  303 of 411 complete"
       ]
      },
      {
       "output_type": "stream",
       "stream": "stdout",
       "text": [
        "\u001b[K flip_direct_racing_Tilden_27Nov16_10h41m05s_Mr_Blue\r",
        "\r",
        " [**********************74%***********            ]  304 of 411 complete"
       ]
      },
      {
       "output_type": "stream",
       "stream": "stdout",
       "text": [
        "\u001b[K flip_direct_racing_Tilden_27Nov16_10h42m09s_Mr_Orange\r",
        "\r",
        " [**********************74%***********            ]  305 of 411 complete"
       ]
      },
      {
       "output_type": "stream",
       "stream": "stdout",
       "text": [
        "\u001b[K flip_direct_racing_Tilden_27Nov16_11h06m48s_Mr_Orange\r",
        "\r"
       ]
      },
      {
       "output_type": "stream",
       "stream": "stdout",
       "text": [
        " [**********************74%***********            ]  306 of 411 complete"
       ]
      },
      {
       "output_type": "stream",
       "stream": "stdout",
       "text": [
        "\u001b[K flip_direct_racing_Tilden_27Nov16_11h08m39s_Mr_Blue\r",
        "\r"
       ]
      },
      {
       "output_type": "stream",
       "stream": "stdout",
       "text": [
        " [**********************75%***********            ]  307 of 411 complete"
       ]
      },
      {
       "output_type": "stream",
       "stream": "stdout",
       "text": [
        "\u001b[K flip_direct_racing_Tilden_27Nov16_12h20m21s_Mr_Blue\r",
        "\r",
        " [**********************75%***********            ]  308 of 411 complete"
       ]
      },
      {
       "output_type": "stream",
       "stream": "stdout",
       "text": [
        "\u001b[K flip_direct_racing_Tilden_27Nov16_13h28m00s_Mr_Blue\r",
        "\r",
        " [**********************75%***********            ]  309 of 411 complete"
       ]
      },
      {
       "output_type": "stream",
       "stream": "stdout",
       "text": [
        "\u001b[K flip_direct_snow_04Feb17_11h14m00s_Mr_Silver\r",
        "\r",
        " [**********************75%***********            ]  310 of 411 complete"
       ]
      },
      {
       "output_type": "stream",
       "stream": "stdout",
       "text": [
        "\u001b[K flip_direct_snow_04Feb17_11h14m09s_Mr_Orange\r",
        "\r",
        " [**********************76%***********            ]  311 of 411 complete"
       ]
      },
      {
       "output_type": "stream",
       "stream": "stdout",
       "text": [
        "\u001b[K flip_direct_snow_04Feb17_11h42m46s_Mr_Silver\r",
        "\r",
        " [**********************76%***********            ]  312 of 411 complete"
       ]
      },
      {
       "output_type": "stream",
       "stream": "stdout",
       "text": [
        "\u001b[K flip_direct_snow_04Feb17_11h44m43s_Mr_Orange\r",
        "\r",
        " [**********************76%***********            ]  313 of 411 complete"
       ]
      },
      {
       "output_type": "stream",
       "stream": "stdout",
       "text": [
        "\u001b[K flip_direct_snow_04Feb17_14h00m51s_Mr_Orange\r",
        "\r",
        " [**********************76%***********            ]  314 of 411 complete"
       ]
      },
      {
       "output_type": "stream",
       "stream": "stdout",
       "text": [
        "\u001b[K flip_direct_snow_04Feb17_15h05m32s_Mr_Silver\r",
        "\r"
       ]
      },
      {
       "output_type": "stream",
       "stream": "stdout",
       "text": [
        " [**********************77%************           ]  315 of 411 complete"
       ]
      },
      {
       "output_type": "stream",
       "stream": "stdout",
       "text": [
        "\u001b[K flip_direct_snow_04Feb17_15h30m53s_Mr_Orange\r",
        "\r"
       ]
      },
      {
       "output_type": "stream",
       "stream": "stdout",
       "text": [
        " [**********************77%************           ]  316 of 411 complete"
       ]
      },
      {
       "output_type": "stream",
       "stream": "stdout",
       "text": [
        "\u001b[K flip_direct_snow_31Dec12_16h09m30s_Mr_Silver\r",
        "\r",
        " [**********************77%************           ]  317 of 411 complete"
       ]
      },
      {
       "output_type": "stream",
       "stream": "stdout",
       "text": [
        "\u001b[K flip_direct_snow_31Dec12_16h23m09s_Mr_Silver\r",
        "\r",
        " [**********************77%************           ]  318 of 411 complete"
       ]
      },
      {
       "output_type": "stream",
       "stream": "stdout",
       "text": [
        "\u001b[K flip_direct_tape_home_01Jan2015_14h48m53s_Mr_Black\r",
        "\r",
        " [**********************78%************           ]  319 of 411 complete"
       ]
      },
      {
       "output_type": "stream",
       "stream": "stdout",
       "text": [
        "\u001b[K flip_direct_to_campus_08Oct16_08h55m37s_Mr_Orange\r",
        "\r"
       ]
      },
      {
       "output_type": "stream",
       "stream": "stdout",
       "text": [
        " [**********************78%************           ]  320 of 411 complete"
       ]
      },
      {
       "output_type": "stream",
       "stream": "stdout",
       "text": [
        "\u001b[K flip_follow_25Aug2016_local_sidewalks_Mr_Orange\r",
        "\r",
        " [**********************78%************           ]  321 of 411 complete"
       ]
      },
      {
       "output_type": "stream",
       "stream": "stdout",
       "text": [
        "\u001b[K flip_follow_26Aug2016_Mr_Orange_Tilden_1\r",
        "\r"
       ]
      },
      {
       "output_type": "stream",
       "stream": "stdout",
       "text": [
        " [**********************78%************           ]  322 of 411 complete"
       ]
      },
      {
       "output_type": "stream",
       "stream": "stdout",
       "text": [
        "\u001b[K flip_follow_26Aug2016_Mr_Orange_Tilden_2\r",
        "\r",
        " [**********************79%*************          ]  323 of 411 complete"
       ]
      },
      {
       "output_type": "stream",
       "stream": "stdout",
       "text": [
        "\u001b[K flip_follow_27Aug2016_Mr_Blue_Tilden\r",
        "\r"
       ]
      },
      {
       "output_type": "stream",
       "stream": "stdout",
       "text": [
        " [**********************79%*************          ]  324 of 411 complete"
       ]
      },
      {
       "output_type": "stream",
       "stream": "stdout",
       "text": [
        "\u001b[K flip_follow_28Aug2016_Mr_Orange_Tilden\r",
        "\r"
       ]
      },
      {
       "output_type": "stream",
       "stream": "stdout",
       "text": [
        " [**********************79%*************          ]  325 of 411 complete"
       ]
      },
      {
       "output_type": "stream",
       "stream": "stdout",
       "text": [
        "\u001b[K flip_follow_29Aug2016_Mr_Blue_Tilden\r",
        "\r",
        " [**********************79%*************          ]  326 of 411 complete"
       ]
      },
      {
       "output_type": "stream",
       "stream": "stdout",
       "text": [
        "\u001b[K flip_follow_and_furtive_27Aug2016_Mr_Orange\r",
        "\r"
       ]
      },
      {
       "output_type": "stream",
       "stream": "stdout",
       "text": [
        " [**********************80%*************          ]  327 of 411 complete"
       ]
      },
      {
       "output_type": "stream",
       "stream": "stdout",
       "text": [
        "\u001b[K flip_follow_caffe_z2_follow_campus_10Oct16_17h27m05s_Mr_Orange\r",
        "\r",
        " [**********************80%*************          ]  328 of 411 complete"
       ]
      },
      {
       "output_type": "stream",
       "stream": "stdout",
       "text": [
        "\u001b[K flip_follow_caffe_z2_follow_local_sidewalks_24Sep16_13h51m22s_Mr_Blue\r",
        "\r",
        " [**********************80%*************          ]  329 of 411 complete"
       ]
      },
      {
       "output_type": "stream",
       "stream": "stdout",
       "text": [
        "\u001b[K flip_follow_follow_Tilden_22Dec16_14h13m56s_Mr_Orange\r",
        "\r"
       ]
      },
      {
       "output_type": "stream",
       "stream": "stdout",
       "text": [
        " [**********************80%*************          ]  330 of 411 complete"
       ]
      },
      {
       "output_type": "stream",
       "stream": "stdout",
       "text": [
        "\u001b[K flip_furtive_8August2016\r",
        "\r"
       ]
      },
      {
       "output_type": "stream",
       "stream": "stdout",
       "text": [
        " [**********************81%**************         ]  331 of 411 complete"
       ]
      },
      {
       "output_type": "stream",
       "stream": "stdout",
       "text": [
        "\u001b[K flip_furtive_9August2016\r",
        "\r",
        " [**********************81%**************         ]  332 of 411 complete"
       ]
      },
      {
       "output_type": "stream",
       "stream": "stdout",
       "text": [
        "\u001b[K flip_furtive_17Aug2016_6_15_pm\r",
        "\r",
        " [**********************81%**************         ]  333 of 411 complete"
       ]
      },
      {
       "output_type": "stream",
       "stream": "stdout",
       "text": [
        "\u001b[K flip_furtive_20Aug2016_start_10_30_am_Tilden_1\r",
        "\r",
        " [**********************81%**************         ]  334 of 411 complete"
       ]
      },
      {
       "output_type": "stream",
       "stream": "stdout",
       "text": [
        "\u001b[K flip_furtive_20Aug2016_start_10_30_am_Tilden_2\r",
        "\r"
       ]
      },
      {
       "output_type": "stream",
       "stream": "stdout",
       "text": [
        " [**********************82%**************         ]  335 of 411 complete"
       ]
      },
      {
       "output_type": "stream",
       "stream": "stdout",
       "text": [
        "\u001b[K flip_furtive_20Aug2016_to_5_26_pm\r",
        "\r"
       ]
      },
      {
       "output_type": "stream",
       "stream": "stdout",
       "text": [
        " [**********************82%**************         ]  336 of 411 complete"
       ]
      },
      {
       "output_type": "stream",
       "stream": "stdout",
       "text": [
        "\u001b[K flip_furtive_20Aug2016_to_6_14_pm\r",
        "\r"
       ]
      },
      {
       "output_type": "stream",
       "stream": "stdout",
       "text": [
        " [**********************82%**************         ]  337 of 411 complete"
       ]
      },
      {
       "output_type": "stream",
       "stream": "stdout",
       "text": [
        "\u001b[K flip_furtive_20Aug2016_to_10_20_am_Tilden\r",
        "\r",
        " [**********************82%**************         ]  338 of 411 complete"
       ]
      },
      {
       "output_type": "stream",
       "stream": "stdout",
       "text": [
        "\u001b[K flip_furtive_21Aug2016_to_9_57_am_Tilden\r",
        "\r"
       ]
      },
      {
       "output_type": "stream",
       "stream": "stdout",
       "text": [
        " [**********************82%**************         ]  339 of 411 complete"
       ]
      },
      {
       "output_type": "stream",
       "stream": "stdout",
       "text": [
        "\u001b[K flip_furtive_21Aug2016_to_10_38_am_Tilden\r",
        "\r",
        " [**********************83%***************        ]  340 of 411 complete"
       ]
      },
      {
       "output_type": "stream",
       "stream": "stdout",
       "text": [
        "\u001b[K flip_furtive_21Aug2016_to_10_57_am_Tilden\r",
        "\r",
        " [**********************83%***************        ]  341 of 411 complete"
       ]
      },
      {
       "output_type": "stream",
       "stream": "stdout",
       "text": [
        "\u001b[K flip_furtive_22Aug2016_to_5_20_pm_Indian_Rock\r",
        "\r"
       ]
      },
      {
       "output_type": "stream",
       "stream": "stdout",
       "text": [
        " [**********************83%***************        ]  342 of 411 complete"
       ]
      },
      {
       "output_type": "stream",
       "stream": "stdout",
       "text": [
        "\u001b[K flip_furtive_22Aug2016_to_8_11_am_Tilden\r",
        "\r"
       ]
      },
      {
       "output_type": "stream",
       "stream": "stdout",
       "text": [
        " [**********************83%***************        ]  343 of 411 complete"
       ]
      },
      {
       "output_type": "stream",
       "stream": "stdout",
       "text": [
        "\u001b[K flip_furtive_23Aug2016_to_11_24_am_at_home\r",
        "\r",
        " [**********************84%***************        ]  344 of 411 complete"
       ]
      },
      {
       "output_type": "stream",
       "stream": "stdout",
       "text": [
        "\u001b[K flip_furtive_23Aug2016_to_19_50_to_Rose_Garden\r",
        "\r"
       ]
      },
      {
       "output_type": "stream",
       "stream": "stdout",
       "text": [
        " [**********************84%***************        ]  345 of 411 complete"
       ]
      },
      {
       "output_type": "stream",
       "stream": "stdout",
       "text": [
        "\u001b[K flip_furtive_24Aug2016_Tilden2\r",
        "\r"
       ]
      },
      {
       "output_type": "stream",
       "stream": "stdout",
       "text": [
        " [**********************84%***************        ]  346 of 411 complete"
       ]
      },
      {
       "output_type": "stream",
       "stream": "stdout",
       "text": [
        "\u001b[K flip_furtive_24Aug2016_Tilden\r",
        "\r"
       ]
      },
      {
       "output_type": "stream",
       "stream": "stdout",
       "text": [
        " [**********************84%***************        ]  347 of 411 complete"
       ]
      },
      {
       "output_type": "stream",
       "stream": "stdout",
       "text": [
        "\u001b[K flip_furtive_25Aug2016_local_sidewalks_Mr_Blue\r",
        "\r",
        " [**********************85%****************       ]  348 of 411 complete"
       ]
      },
      {
       "output_type": "stream",
       "stream": "stdout",
       "text": [
        "\u001b[K flip_furtive_26Aug2016_Mr_Blue_Tilden\r",
        "\r"
       ]
      },
      {
       "output_type": "stream",
       "stream": "stdout",
       "text": [
        " [**********************85%****************       ]  349 of 411 complete"
       ]
      },
      {
       "output_type": "stream",
       "stream": "stdout",
       "text": [
        "\u001b[K flip_furtive_28Aug2016_Mr_Blue\r",
        "\r"
       ]
      },
      {
       "output_type": "stream",
       "stream": "stdout",
       "text": [
        " [**********************85%****************       ]  350 of 411 complete"
       ]
      },
      {
       "output_type": "stream",
       "stream": "stdout",
       "text": [
        "\u001b[K flip_furtive_29Aug2016_Mr_Orange_Tilden\r",
        "\r",
        " [**********************85%****************       ]  351 of 411 complete"
       ]
      },
      {
       "output_type": "stream",
       "stream": "stdout",
       "text": [
        "\u001b[K flip_left_local_16Feb17_17h16m59s_Mr_Orange\r",
        "\r"
       ]
      },
      {
       "output_type": "stream",
       "stream": "stdout",
       "text": [
        " [**********************86%****************       ]  352 of 411 complete"
       ]
      },
      {
       "output_type": "stream",
       "stream": "stdout",
       "text": [
        "\u001b[K flip_play_30Aug2016_Mr_Blue_Tilden_1\r",
        "\r",
        " [**********************86%****************       ]  353 of 411 complete"
       ]
      },
      {
       "output_type": "stream",
       "stream": "stdout",
       "text": [
        "\u001b[K flip_play_30Aug2016_Mr_Blue_Tilden_2\r",
        "\r",
        " [**********************86%****************       ]  354 of 411 complete"
       ]
      },
      {
       "output_type": "stream",
       "stream": "stdout",
       "text": [
        "\u001b[K flip_play_30Aug2016_Mr_Blue_Tilden_3\r",
        "\r",
        " [**********************86%****************       ]  355 of 411 complete"
       ]
      },
      {
       "output_type": "stream",
       "stream": "stdout",
       "text": [
        "\u001b[K flip_play_30Aug2016_Mr_Blue_Tilden_4\r",
        "\r",
        " [**********************87%*****************      ]  356 of 411 complete"
       ]
      },
      {
       "output_type": "stream",
       "stream": "stdout",
       "text": [
        "\u001b[K flip_play_Nino_from_campus_08Oct16_10h12m45s_Mr_Blue\r",
        "\r",
        " [**********************87%*****************      ]  357 of 411 complete"
       ]
      },
      {
       "output_type": "stream",
       "stream": "stdout",
       "text": [
        "\u001b[K flip_play_Nino_to_campus_08Oct16_09h00m00s_Mr_Blue_1a\r",
        "\r",
        " [**********************87%*****************      ]  358 of 411 complete"
       ]
      },
      {
       "output_type": "stream",
       "stream": "stdout",
       "text": [
        "\u001b[K flip_play_Nino_to_campus_08Oct16_09h00m00s_Mr_Blue_1b\r",
        "\r",
        " [**********************87%*****************      ]  359 of 411 complete"
       ]
      },
      {
       "output_type": "stream",
       "stream": "stdout",
       "text": [
        "\u001b[K flip_play_Nino_to_campus_08Oct16_09h00m00s_Mr_Blue_1c\r",
        "\r",
        " [**********************88%*****************      ]  360 of 411 complete"
       ]
      },
      {
       "output_type": "stream",
       "stream": "stdout",
       "text": [
        "\u001b[K flip_play_Nino_to_campus_08Oct16_09h00m00s_Mr_Blue_2\r",
        "\r",
        " [**********************88%*****************      ]  361 of 411 complete"
       ]
      },
      {
       "output_type": "stream",
       "stream": "stdout",
       "text": [
        "\u001b[K flip_play_follow_30Aug2016_Mr_Orange_Tilden_1\r",
        "\r"
       ]
      },
      {
       "output_type": "stream",
       "stream": "stdout",
       "text": [
        " [**********************88%*****************      ]  362 of 411 complete"
       ]
      },
      {
       "output_type": "stream",
       "stream": "stdout",
       "text": [
        "\u001b[K flip_play_follow_30Aug2016_Mr_Orange_Tilden_2\r",
        "\r",
        " [**********************88%*****************      ]  363 of 411 complete"
       ]
      },
      {
       "output_type": "stream",
       "stream": "stdout",
       "text": [
        "\u001b[K flip_racing_Smyth_17Dec16_14h52m15s_Mr_Teal\r",
        "\r"
       ]
      },
      {
       "output_type": "stream",
       "stream": "stdout",
       "text": [
        " [**********************89%******************     ]  364 of 411 complete"
       ]
      },
      {
       "output_type": "stream",
       "stream": "stdout",
       "text": [
        "\u001b[K flip_racing_Tilden_27Nov16_12h13m19s_Mr_Orange\r",
        "\r"
       ]
      },
      {
       "output_type": "stream",
       "stream": "stdout",
       "text": [
        " [**********************89%******************     ]  365 of 411 complete"
       ]
      },
      {
       "output_type": "stream",
       "stream": "stdout",
       "text": [
        "\u001b[K flip_racing_Tilden_27Nov16_12h54m34s_Mr_Orange\r",
        "\r",
        " [**********************89%******************     ]  366 of 411 complete"
       ]
      },
      {
       "output_type": "stream",
       "stream": "stdout",
       "text": [
        "\u001b[K follow_25Aug2016_local_sidewalks_Mr_Orange\r",
        "\r",
        " [**********************89%******************     ]  367 of 411 complete"
       ]
      },
      {
       "output_type": "stream",
       "stream": "stdout",
       "text": [
        "\u001b[K follow_26Aug2016_Mr_Orange_Tilden_1\r",
        "\r"
       ]
      },
      {
       "output_type": "stream",
       "stream": "stdout",
       "text": [
        " [**********************90%******************     ]  368 of 411 complete"
       ]
      },
      {
       "output_type": "stream",
       "stream": "stdout",
       "text": [
        "\u001b[K follow_26Aug2016_Mr_Orange_Tilden_2\r",
        "\r",
        " [**********************90%******************     ]  369 of 411 complete"
       ]
      },
      {
       "output_type": "stream",
       "stream": "stdout",
       "text": [
        "\u001b[K follow_27Aug2016_Mr_Blue_Tilden\r",
        "\r"
       ]
      },
      {
       "output_type": "stream",
       "stream": "stdout",
       "text": [
        " [**********************90%******************     ]  370 of 411 complete"
       ]
      },
      {
       "output_type": "stream",
       "stream": "stdout",
       "text": [
        "\u001b[K follow_28Aug2016_Mr_Orange_Tilden\r",
        "\r"
       ]
      },
      {
       "output_type": "stream",
       "stream": "stdout",
       "text": [
        " [**********************90%******************     ]  371 of 411 complete"
       ]
      },
      {
       "output_type": "stream",
       "stream": "stdout",
       "text": [
        "\u001b[K follow_29Aug2016_Mr_Blue_Tilden\r",
        "\r",
        " [**********************91%*******************    ]  372 of 411 complete"
       ]
      },
      {
       "output_type": "stream",
       "stream": "stdout",
       "text": [
        "\u001b[K follow_and_furtive_27Aug2016_Mr_Orange\r",
        "\r"
       ]
      },
      {
       "output_type": "stream",
       "stream": "stdout",
       "text": [
        " [**********************91%*******************    ]  373 of 411 complete"
       ]
      },
      {
       "output_type": "stream",
       "stream": "stdout",
       "text": [
        "\u001b[K follow_caffe_z2_follow_campus_10Oct16_17h27m05s_Mr_Orange\r",
        "\r",
        " [**********************91%*******************    ]  374 of 411 complete"
       ]
      },
      {
       "output_type": "stream",
       "stream": "stdout",
       "text": [
        "\u001b[K follow_caffe_z2_follow_local_sidewalks_24Sep16_13h51m22s_Mr_Blue\r",
        "\r",
        " [**********************91%*******************    ]  375 of 411 complete"
       ]
      },
      {
       "output_type": "stream",
       "stream": "stdout",
       "text": [
        "\u001b[K follow_follow_Tilden_22Dec16_14h13m56s_Mr_Orange\r",
        "\r"
       ]
      },
      {
       "output_type": "stream",
       "stream": "stdout",
       "text": [
        " [**********************91%*******************    ]  376 of 411 complete"
       ]
      },
      {
       "output_type": "stream",
       "stream": "stdout",
       "text": [
        "\u001b[K furtive_8August2016\r",
        "\r"
       ]
      },
      {
       "output_type": "stream",
       "stream": "stdout",
       "text": [
        " [**********************92%*******************    ]  377 of 411 complete"
       ]
      },
      {
       "output_type": "stream",
       "stream": "stdout",
       "text": [
        "\u001b[K furtive_9August2016\r",
        "\r",
        " [**********************92%*******************    ]  378 of 411 complete"
       ]
      },
      {
       "output_type": "stream",
       "stream": "stdout",
       "text": [
        "\u001b[K furtive_17Aug2016_6_15_pm\r",
        "\r",
        " [**********************92%*******************    ]  379 of 411 complete"
       ]
      },
      {
       "output_type": "stream",
       "stream": "stdout",
       "text": [
        "\u001b[K furtive_20Aug2016_start_10_30_am_Tilden_1\r",
        "\r",
        " [**********************92%*******************    ]  380 of 411 complete"
       ]
      },
      {
       "output_type": "stream",
       "stream": "stdout",
       "text": [
        "\u001b[K furtive_20Aug2016_start_10_30_am_Tilden_2\r",
        "\r"
       ]
      },
      {
       "output_type": "stream",
       "stream": "stdout",
       "text": [
        " [**********************93%********************   ]  381 of 411 complete"
       ]
      },
      {
       "output_type": "stream",
       "stream": "stdout",
       "text": [
        "\u001b[K furtive_20Aug2016_to_5_26_pm\r",
        "\r"
       ]
      },
      {
       "output_type": "stream",
       "stream": "stdout",
       "text": [
        " [**********************93%********************   ]  382 of 411 complete"
       ]
      },
      {
       "output_type": "stream",
       "stream": "stdout",
       "text": [
        "\u001b[K furtive_20Aug2016_to_6_14_pm\r",
        "\r"
       ]
      },
      {
       "output_type": "stream",
       "stream": "stdout",
       "text": [
        " [**********************93%********************   ]  383 of 411 complete"
       ]
      },
      {
       "output_type": "stream",
       "stream": "stdout",
       "text": [
        "\u001b[K furtive_20Aug2016_to_10_20_am_Tilden\r",
        "\r",
        " [**********************93%********************   ]  384 of 411 complete"
       ]
      },
      {
       "output_type": "stream",
       "stream": "stdout",
       "text": [
        "\u001b[K furtive_21Aug2016_to_9_57_am_Tilden\r",
        "\r"
       ]
      },
      {
       "output_type": "stream",
       "stream": "stdout",
       "text": [
        " [**********************94%********************   ]  385 of 411 complete"
       ]
      },
      {
       "output_type": "stream",
       "stream": "stdout",
       "text": [
        "\u001b[K furtive_21Aug2016_to_10_38_am_Tilden\r",
        "\r",
        " [**********************94%********************   ]  386 of 411 complete"
       ]
      },
      {
       "output_type": "stream",
       "stream": "stdout",
       "text": [
        "\u001b[K furtive_21Aug2016_to_10_57_am_Tilden\r",
        "\r",
        " [**********************94%********************   ]  387 of 411 complete"
       ]
      },
      {
       "output_type": "stream",
       "stream": "stdout",
       "text": [
        "\u001b[K furtive_22Aug2016_to_5_20_pm_Indian_Rock\r",
        "\r"
       ]
      },
      {
       "output_type": "stream",
       "stream": "stdout",
       "text": [
        " [**********************94%********************   ]  388 of 411 complete"
       ]
      },
      {
       "output_type": "stream",
       "stream": "stdout",
       "text": [
        "\u001b[K furtive_22Aug2016_to_8_11_am_Tilden\r",
        "\r"
       ]
      },
      {
       "output_type": "stream",
       "stream": "stdout",
       "text": [
        " [**********************95%*********************  ]  389 of 411 complete"
       ]
      },
      {
       "output_type": "stream",
       "stream": "stdout",
       "text": [
        "\u001b[K furtive_23Aug2016_to_11_24_am_at_home\r",
        "\r",
        " [**********************95%*********************  ]  390 of 411 complete"
       ]
      },
      {
       "output_type": "stream",
       "stream": "stdout",
       "text": [
        "\u001b[K furtive_23Aug2016_to_19_50_to_Rose_Garden\r",
        "\r"
       ]
      },
      {
       "output_type": "stream",
       "stream": "stdout",
       "text": [
        " [**********************95%*********************  ]  391 of 411 complete"
       ]
      },
      {
       "output_type": "stream",
       "stream": "stdout",
       "text": [
        "\u001b[K furtive_24Aug2016_Tilden2\r",
        "\r"
       ]
      },
      {
       "output_type": "stream",
       "stream": "stdout",
       "text": [
        " [**********************95%*********************  ]  392 of 411 complete"
       ]
      },
      {
       "output_type": "stream",
       "stream": "stdout",
       "text": [
        "\u001b[K furtive_24Aug2016_Tilden\r",
        "\r"
       ]
      },
      {
       "output_type": "stream",
       "stream": "stdout",
       "text": [
        " [**********************96%*********************  ]  393 of 411 complete"
       ]
      },
      {
       "output_type": "stream",
       "stream": "stdout",
       "text": [
        "\u001b[K furtive_25Aug2016_local_sidewalks_Mr_Blue\r",
        "\r",
        " [**********************96%*********************  ]  394 of 411 complete"
       ]
      },
      {
       "output_type": "stream",
       "stream": "stdout",
       "text": [
        "\u001b[K furtive_26Aug2016_Mr_Blue_Tilden\r",
        "\r"
       ]
      },
      {
       "output_type": "stream",
       "stream": "stdout",
       "text": [
        " [**********************96%*********************  ]  395 of 411 complete"
       ]
      },
      {
       "output_type": "stream",
       "stream": "stdout",
       "text": [
        "\u001b[K furtive_28Aug2016_Mr_Blue\r",
        "\r"
       ]
      },
      {
       "output_type": "stream",
       "stream": "stdout",
       "text": [
        " [**********************96%*********************  ]  396 of 411 complete"
       ]
      },
      {
       "output_type": "stream",
       "stream": "stdout",
       "text": [
        "\u001b[K furtive_29Aug2016_Mr_Orange_Tilden\r",
        "\r",
        " [**********************97%********************** ]  397 of 411 complete"
       ]
      },
      {
       "output_type": "stream",
       "stream": "stdout",
       "text": [
        "\u001b[K left_local_16Feb17_17h16m59s_Mr_Orange\r",
        "\r"
       ]
      },
      {
       "output_type": "stream",
       "stream": "stdout",
       "text": [
        " [**********************97%********************** ]  398 of 411 complete"
       ]
      },
      {
       "output_type": "stream",
       "stream": "stdout",
       "text": [
        "\u001b[K play_30Aug2016_Mr_Blue_Tilden_1\r",
        "\r",
        " [**********************97%********************** ]  399 of 411 complete"
       ]
      },
      {
       "output_type": "stream",
       "stream": "stdout",
       "text": [
        "\u001b[K play_30Aug2016_Mr_Blue_Tilden_2\r",
        "\r",
        " [**********************97%********************** ]  400 of 411 complete"
       ]
      },
      {
       "output_type": "stream",
       "stream": "stdout",
       "text": [
        "\u001b[K play_30Aug2016_Mr_Blue_Tilden_3\r",
        "\r",
        " [**********************98%********************** ]  401 of 411 complete"
       ]
      },
      {
       "output_type": "stream",
       "stream": "stdout",
       "text": [
        "\u001b[K play_30Aug2016_Mr_Blue_Tilden_4\r",
        "\r"
       ]
      },
      {
       "output_type": "stream",
       "stream": "stdout",
       "text": [
        " [**********************98%********************** ]  402 of 411 complete"
       ]
      },
      {
       "output_type": "stream",
       "stream": "stdout",
       "text": [
        "\u001b[K play_Nino_from_campus_08Oct16_10h12m45s_Mr_Blue\r",
        "\r",
        " [**********************98%********************** ]  403 of 411 complete"
       ]
      },
      {
       "output_type": "stream",
       "stream": "stdout",
       "text": [
        "\u001b[K play_Nino_to_campus_08Oct16_09h00m00s_Mr_Blue_1a\r",
        "\r",
        " [**********************98%********************** ]  404 of 411 complete"
       ]
      },
      {
       "output_type": "stream",
       "stream": "stdout",
       "text": [
        "\u001b[K play_Nino_to_campus_08Oct16_09h00m00s_Mr_Blue_1b\r",
        "\r",
        " [**********************99%***********************]  405 of 411 complete"
       ]
      },
      {
       "output_type": "stream",
       "stream": "stdout",
       "text": [
        "\u001b[K play_Nino_to_campus_08Oct16_09h00m00s_Mr_Blue_1c\r",
        "\r",
        " [**********************99%***********************]  406 of 411 complete"
       ]
      },
      {
       "output_type": "stream",
       "stream": "stdout",
       "text": [
        "\u001b[K play_Nino_to_campus_08Oct16_09h00m00s_Mr_Blue_2\r",
        "\r",
        " [**********************99%***********************]  407 of 411 complete"
       ]
      },
      {
       "output_type": "stream",
       "stream": "stdout",
       "text": [
        "\u001b[K play_follow_30Aug2016_Mr_Orange_Tilden_1\r",
        "\r"
       ]
      },
      {
       "output_type": "stream",
       "stream": "stdout",
       "text": [
        " [**********************99%***********************]  408 of 411 complete"
       ]
      },
      {
       "output_type": "stream",
       "stream": "stdout",
       "text": [
        "\u001b[K play_follow_30Aug2016_Mr_Orange_Tilden_2\r",
        "\r",
        " [*********************100%***********************]  409 of 411 complete"
       ]
      },
      {
       "output_type": "stream",
       "stream": "stdout",
       "text": [
        "\u001b[K racing_Smyth_17Dec16_14h52m15s_Mr_Teal\r",
        "\r",
        " [*********************100%***********************]  410 of 411 complete"
       ]
      },
      {
       "output_type": "stream",
       "stream": "stdout",
       "text": [
        "\u001b[K racing_Tilden_27Nov16_12h13m19s_Mr_Orange\r",
        "\r"
       ]
      },
      {
       "output_type": "stream",
       "stream": "stdout",
       "text": [
        " [*********************100%***********************]  411 of 411 complete"
       ]
      },
      {
       "output_type": "stream",
       "stream": "stdout",
       "text": [
        "\u001b[K racing_Tilden_27Nov16_12h54m34s_Mr_Orange\r",
        "\u001b[K\r",
        " [*********************100%***********************]  412 of 411 complete"
       ]
      },
      {
       "output_type": "stream",
       "stream": "stdout",
       "text": [
        "()\n"
       ]
      }
     ],
     "prompt_number": 1
    },
    {
     "cell_type": "code",
     "collapsed": false,
     "input": [
      "# Print labeled info for each run\n",
      "\n",
      "i = 0\n",
      "for key, val in Segment_Data.Segment_Data['runs'].iteritems():\n",
      "    print val['labels']\n",
      "    print ''\n",
      "    i += 1\n",
      "    if i >= 2:\n",
      "        break"
     ],
     "language": "python",
     "metadata": {},
     "outputs": [
      {
       "output_type": "stream",
       "stream": "stdout",
       "text": [
        "{u'reject_run': False, u'play': False, u'snow': False, u'local': False, u'notes': True, u'night': False, u'racing': False, u'flip': True, u'only_states_1_and_6_good': True, u'direct': True, u'multicar': False, u'out1_in2': False, u'reject_intervals': False, u'home': False, u'follow': False, u'furtive': False, u'Smyth': True, u'campus': False, u'Tilden': False, u'left': False}\n",
        "\n",
        "{u'reject_run': False, u'play': False, u'snow': False, u'local': True, u'notes': False, u'night': False, u'racing': False, u'flip': True, u'only_states_1_and_6_good': True, u'direct': False, u'multicar': False, u'out1_in2': False, u'reject_intervals': False, u'home': False, u'follow': False, u'furtive': True, u'Smyth': False, u'campus': False, u'Tilden': False, u'left': False}\n",
        "\n"
       ]
      }
     ],
     "prompt_number": 25
    },
    {
     "cell_type": "markdown",
     "metadata": {},
     "source": [
      "### Yay!\n",
      "Turns out all the data I need is available in the 'labels' section of the dictionary of a run. This can be quite easily indexed by my code to get all the data I need to train a familiarity/strangeness net."
     ]
    },
    {
     "cell_type": "markdown",
     "metadata": {},
     "source": [
      "### Formatting Data\n",
      "Now I need to get the environment and daylight data into the format I want (a PyTorch tensor). Let's write some simple code to do this."
     ]
    },
    {
     "cell_type": "code",
     "collapsed": false,
     "input": [
      "import torch\n",
      "env = torch.FloatTensor(6).zero_()\n",
      "env_key = {'snow':0,'local':1,'night':2,'Smyth':3,'campus':4,'home':5}\n",
      "print(env)\n",
      "\n",
      "import random\n",
      "run = random.choice(Segment_Data.Segment_Data['runs'].keys())\n",
      "load = Segment_Data.Segment_Data['runs'][run]\n",
      "print load['labels']\n",
      "for key, value in load['labels'].iteritems():\n",
      "    if key in env_key and value:\n",
      "        env[env_key[key]] = 1\n",
      "\n",
      "print env"
     ],
     "language": "python",
     "metadata": {},
     "outputs": [
      {
       "output_type": "stream",
       "stream": "stdout",
       "text": [
        "\n",
        " 0\n",
        " 0\n",
        " 0\n",
        " 0\n",
        " 0\n",
        " 0\n",
        "[torch.FloatTensor of size 6]\n",
        "\n",
        "{u'reject_run': False, u'play': False, u'snow': False, u'local': False, u'notes': False, u'night': False, u'racing': False, u'flip': False, u'only_states_1_and_6_good': True, u'direct': False, u'multicar': False, u'out1_in2': False, u'reject_intervals': False, u'home': False, u'follow': False, u'furtive': True, u'Smyth': False, u'campus': False, u'Tilden': True, u'left': False}\n",
        "\n",
        " 0\n",
        " 0\n",
        " 0\n",
        " 0\n",
        " 0\n",
        " 0\n",
        "[torch.FloatTensor of size 6]\n",
        "\n"
       ]
      }
     ],
     "prompt_number": 65
    }
   ],
   "metadata": {}
  }
 ]
}